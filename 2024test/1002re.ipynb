{
 "cells": [
  {
   "cell_type": "code",
   "execution_count": 1,
   "id": "5aabc5ee-6808-48bd-94e1-fdc6dba33743",
   "metadata": {},
   "outputs": [
    {
     "data": {
      "text/html": [
       "<div>\n",
       "<style scoped>\n",
       "    .dataframe tbody tr th:only-of-type {\n",
       "        vertical-align: middle;\n",
       "    }\n",
       "\n",
       "    .dataframe tbody tr th {\n",
       "        vertical-align: top;\n",
       "    }\n",
       "\n",
       "    .dataframe thead th {\n",
       "        text-align: right;\n",
       "    }\n",
       "</style>\n",
       "<table border=\"1\" class=\"dataframe\">\n",
       "  <thead>\n",
       "    <tr style=\"text-align: right;\">\n",
       "      <th></th>\n",
       "      <th>2018/12</th>\n",
       "      <th>2019/12</th>\n",
       "      <th>2020/12</th>\n",
       "      <th>2021/12(E)</th>\n",
       "    </tr>\n",
       "  </thead>\n",
       "  <tbody>\n",
       "    <tr>\n",
       "      <th>DPS</th>\n",
       "      <td>1416.00</td>\n",
       "      <td>1416.00</td>\n",
       "      <td>2994.00</td>\n",
       "      <td>1755.00</td>\n",
       "    </tr>\n",
       "    <tr>\n",
       "      <th>PER</th>\n",
       "      <td>6.42</td>\n",
       "      <td>17.63</td>\n",
       "      <td>21.09</td>\n",
       "      <td>13.93</td>\n",
       "    </tr>\n",
       "    <tr>\n",
       "      <th>PBR</th>\n",
       "      <td>1.10</td>\n",
       "      <td>1.49</td>\n",
       "      <td>2.06</td>\n",
       "      <td>1.88</td>\n",
       "    </tr>\n",
       "  </tbody>\n",
       "</table>\n",
       "</div>"
      ],
      "text/plain": [
       "     2018/12  2019/12  2020/12  2021/12(E)\n",
       "DPS  1416.00  1416.00  2994.00     1755.00\n",
       "PER     6.42    17.63    21.09       13.93\n",
       "PBR     1.10     1.49     2.06        1.88"
      ]
     },
     "execution_count": 1,
     "metadata": {},
     "output_type": "execute_result"
    }
   ],
   "source": [
    "from pandas import DataFrame\n",
    "\n",
    "data = [\n",
    "    [1416, 1416, 2994, 1755],\n",
    "    [6.42, 17.63, 21.09, 13.93],\n",
    "    [1.10, 1.49, 2.06, 1.88]\n",
    "]\n",
    "\n",
    "columns = [\"2018/12\", \"2019/12\", \"2020/12\", \"2021/12(E)\"]\n",
    "index = [\"DPS\", \"PER\", \"PBR\"]\n",
    "\n",
    "df = DataFrame(data=data, index=index, columns=columns)\n",
    "df"
   ]
  },
  {
   "cell_type": "code",
   "execution_count": 2,
   "id": "5fe04d56-590a-46e2-952e-2e0f2470d608",
   "metadata": {},
   "outputs": [
    {
     "data": {
      "text/html": [
       "<div>\n",
       "<style scoped>\n",
       "    .dataframe tbody tr th:only-of-type {\n",
       "        vertical-align: middle;\n",
       "    }\n",
       "\n",
       "    .dataframe tbody tr th {\n",
       "        vertical-align: top;\n",
       "    }\n",
       "\n",
       "    .dataframe thead th {\n",
       "        text-align: right;\n",
       "    }\n",
       "</style>\n",
       "<table border=\"1\" class=\"dataframe\">\n",
       "  <thead>\n",
       "    <tr style=\"text-align: right;\">\n",
       "      <th></th>\n",
       "      <th>2018/12</th>\n",
       "    </tr>\n",
       "  </thead>\n",
       "  <tbody>\n",
       "    <tr>\n",
       "      <th>DPS</th>\n",
       "      <td>1416.00</td>\n",
       "    </tr>\n",
       "    <tr>\n",
       "      <th>PER</th>\n",
       "      <td>6.42</td>\n",
       "    </tr>\n",
       "    <tr>\n",
       "      <th>PBR</th>\n",
       "      <td>1.10</td>\n",
       "    </tr>\n",
       "  </tbody>\n",
       "</table>\n",
       "</div>"
      ],
      "text/plain": [
       "     2018/12\n",
       "DPS  1416.00\n",
       "PER     6.42\n",
       "PBR     1.10"
      ]
     },
     "execution_count": 2,
     "metadata": {},
     "output_type": "execute_result"
    }
   ],
   "source": [
    "#filter 메서드\n",
    "df.filter(items=['2018/12'])"
   ]
  },
  {
   "cell_type": "code",
   "execution_count": 3,
   "id": "3c814861-4030-4ecf-bca5-cb3d55412a1c",
   "metadata": {},
   "outputs": [
    {
     "data": {
      "text/html": [
       "<div>\n",
       "<style scoped>\n",
       "    .dataframe tbody tr th:only-of-type {\n",
       "        vertical-align: middle;\n",
       "    }\n",
       "\n",
       "    .dataframe tbody tr th {\n",
       "        vertical-align: top;\n",
       "    }\n",
       "\n",
       "    .dataframe thead th {\n",
       "        text-align: right;\n",
       "    }\n",
       "</style>\n",
       "<table border=\"1\" class=\"dataframe\">\n",
       "  <thead>\n",
       "    <tr style=\"text-align: right;\">\n",
       "      <th></th>\n",
       "      <th>2018/12</th>\n",
       "      <th>2019/12</th>\n",
       "      <th>2020/12</th>\n",
       "      <th>2021/12(E)</th>\n",
       "    </tr>\n",
       "  </thead>\n",
       "  <tbody>\n",
       "    <tr>\n",
       "      <th>PER</th>\n",
       "      <td>6.42</td>\n",
       "      <td>17.63</td>\n",
       "      <td>21.09</td>\n",
       "      <td>13.93</td>\n",
       "    </tr>\n",
       "  </tbody>\n",
       "</table>\n",
       "</div>"
      ],
      "text/plain": [
       "     2018/12  2019/12  2020/12  2021/12(E)\n",
       "PER     6.42    17.63    21.09       13.93"
      ]
     },
     "execution_count": 3,
     "metadata": {},
     "output_type": "execute_result"
    }
   ],
   "source": [
    "df.filter(items=['PER'], axis=0)"
   ]
  },
  {
   "cell_type": "code",
   "execution_count": 4,
   "id": "c1eaf640-4ae0-49d2-99a5-5cad03c4237a",
   "metadata": {},
   "outputs": [
    {
     "data": {
      "text/html": [
       "<div>\n",
       "<style scoped>\n",
       "    .dataframe tbody tr th:only-of-type {\n",
       "        vertical-align: middle;\n",
       "    }\n",
       "\n",
       "    .dataframe tbody tr th {\n",
       "        vertical-align: top;\n",
       "    }\n",
       "\n",
       "    .dataframe thead th {\n",
       "        text-align: right;\n",
       "    }\n",
       "</style>\n",
       "<table border=\"1\" class=\"dataframe\">\n",
       "  <thead>\n",
       "    <tr style=\"text-align: right;\">\n",
       "      <th></th>\n",
       "      <th>2020/12</th>\n",
       "    </tr>\n",
       "  </thead>\n",
       "  <tbody>\n",
       "    <tr>\n",
       "      <th>DPS</th>\n",
       "      <td>2994.00</td>\n",
       "    </tr>\n",
       "    <tr>\n",
       "      <th>PER</th>\n",
       "      <td>21.09</td>\n",
       "    </tr>\n",
       "    <tr>\n",
       "      <th>PBR</th>\n",
       "      <td>2.06</td>\n",
       "    </tr>\n",
       "  </tbody>\n",
       "</table>\n",
       "</div>"
      ],
      "text/plain": [
       "     2020/12\n",
       "DPS  2994.00\n",
       "PER    21.09\n",
       "PBR     2.06"
      ]
     },
     "execution_count": 4,
     "metadata": {},
     "output_type": "execute_result"
    }
   ],
   "source": [
    "#정규표현식으로 활요해서 행과 열을 조회\n",
    "df.filter(regex='2020')"
   ]
  },
  {
   "cell_type": "code",
   "execution_count": 6,
   "id": "32a88a00-3818-48e7-993a-069028f5750a",
   "metadata": {},
   "outputs": [
    {
     "data": {
      "text/html": [
       "<div>\n",
       "<style scoped>\n",
       "    .dataframe tbody tr th:only-of-type {\n",
       "        vertical-align: middle;\n",
       "    }\n",
       "\n",
       "    .dataframe tbody tr th {\n",
       "        vertical-align: top;\n",
       "    }\n",
       "\n",
       "    .dataframe thead th {\n",
       "        text-align: right;\n",
       "    }\n",
       "</style>\n",
       "<table border=\"1\" class=\"dataframe\">\n",
       "  <thead>\n",
       "    <tr style=\"text-align: right;\">\n",
       "      <th></th>\n",
       "      <th>2018/12</th>\n",
       "      <th>2019/12</th>\n",
       "      <th>2020/12</th>\n",
       "      <th>2021/12(E)</th>\n",
       "    </tr>\n",
       "  </thead>\n",
       "  <tbody>\n",
       "    <tr>\n",
       "      <th>PER</th>\n",
       "      <td>6.42</td>\n",
       "      <td>17.63</td>\n",
       "      <td>21.09</td>\n",
       "      <td>13.93</td>\n",
       "    </tr>\n",
       "    <tr>\n",
       "      <th>PBR</th>\n",
       "      <td>1.10</td>\n",
       "      <td>1.49</td>\n",
       "      <td>2.06</td>\n",
       "      <td>1.88</td>\n",
       "    </tr>\n",
       "  </tbody>\n",
       "</table>\n",
       "</div>"
      ],
      "text/plain": [
       "     2018/12  2019/12  2020/12  2021/12(E)\n",
       "PER     6.42    17.63    21.09       13.93\n",
       "PBR     1.10     1.49     2.06        1.88"
      ]
     },
     "execution_count": 6,
     "metadata": {},
     "output_type": "execute_result"
    }
   ],
   "source": [
    "# 행을 조회할건데 , R이 들어간 것만 조회\n",
    "#df.filter(regex='R' , axis = 0)\n",
    "# 행을 조회할건데 , R로 끝나는 모든 패턴을 조회\n",
    "df.filter(regex='R$' , axis = 0)"
   ]
  },
  {
   "cell_type": "code",
   "execution_count": null,
   "id": "aadd5439-12e3-4c79-9463-f103069ad7c4",
   "metadata": {},
   "outputs": [],
   "source": [
    "from pandas import DataFrame\n",
    "\n",
    "data = [\n",
    "    [\"037730\", \"3R\", 1510],\n",
    "    [\"036360\", \"3SOFT\", 1790],\n",
    "    [\"005670\", \"ACTS\", 1185]\n",
    "]\n",
    "\n",
    "columns = [\"종목코드\", \"종목명\", \"현재가\"]\n",
    "df = DataFrame(data=data, columns=columns)\n",
    "df.set_index(\"종목코드\", inplace=True)\n",
    "df"
   ]
  }
 ],
 "metadata": {
  "kernelspec": {
   "display_name": "Python 3 (ipykernel)",
   "language": "python",
   "name": "python3"
  },
  "language_info": {
   "codemirror_mode": {
    "name": "ipython",
    "version": 3
   },
   "file_extension": ".py",
   "mimetype": "text/x-python",
   "name": "python",
   "nbconvert_exporter": "python",
   "pygments_lexer": "ipython3",
   "version": "3.12.6"
  }
 },
 "nbformat": 4,
 "nbformat_minor": 5
}
