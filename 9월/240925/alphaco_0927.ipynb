{
 "cells": [
  {
   "cell_type": "markdown",
   "id": "0323eb57-d4f7-48fd-9e0b-ac11943b8ac1",
   "metadata": {},
   "source": [
    "## 라이브러리 설치"
   ]
  },
  {
   "cell_type": "code",
   "execution_count": 1,
   "id": "95bfe47a-be80-48e4-9e40-44e430600304",
   "metadata": {},
   "outputs": [
    {
     "name": "stdout",
     "output_type": "stream",
     "text": [
      "Requirement already satisfied: numpy in c:\\users\\campus3s005\\desktop\\seoungsuimbank\\venv\\lib\\site-packages (2.1.1)\n"
     ]
    }
   ],
   "source": [
    "!pip install numpy"
   ]
  },
  {
   "cell_type": "code",
   "execution_count": 2,
   "id": "a544a961-b702-4c0f-9e2b-0ade30d12e09",
   "metadata": {},
   "outputs": [
    {
     "name": "stdout",
     "output_type": "stream",
     "text": [
      "2.1.1\n"
     ]
    }
   ],
   "source": [
    "import numpy as np\n",
    "\n",
    "print(np.__version__)"
   ]
  },
  {
   "cell_type": "code",
   "execution_count": 4,
   "id": "c90a86ff-86bc-4066-9895-df997b0f5f1c",
   "metadata": {},
   "outputs": [],
   "source": [
    "# help(np)"
   ]
  },
  {
   "cell_type": "code",
   "execution_count": 5,
   "id": "ec2de1bb-39ff-4a3e-9a7d-37cda964a8aa",
   "metadata": {},
   "outputs": [
    {
     "data": {
      "text/plain": [
       "[1, 2, 3, 4, 5, 6]"
      ]
     },
     "execution_count": 5,
     "metadata": {},
     "output_type": "execute_result"
    }
   ],
   "source": [
    "num1 = [1, 2, 3]\n",
    "num2 = [4, 5, 6]\n",
    "#       5, 6, 7\n",
    "num1 + num2 "
   ]
  },
  {
   "cell_type": "code",
   "execution_count": 7,
   "id": "e82deb04-80f1-4675-8da0-0e03f33ea462",
   "metadata": {},
   "outputs": [
    {
     "data": {
      "text/plain": [
       "array([5, 7, 9])"
      ]
     },
     "execution_count": 7,
     "metadata": {},
     "output_type": "execute_result"
    }
   ],
   "source": [
    "num1_arr =np.array(num1)\n",
    "num2_arr =np.array(num2)\n",
    "\n",
    "num1_arr + num2_arr"
   ]
  },
  {
   "cell_type": "code",
   "execution_count": 8,
   "id": "818b38c9-351b-4205-b16d-0173961f7fc9",
   "metadata": {},
   "outputs": [
    {
     "name": "stdout",
     "output_type": "stream",
     "text": [
      "<class 'numpy.ndarray'>\n"
     ]
    }
   ],
   "source": [
    "print(type(num1_arr))\n",
    "# 속성 ,메서드 "
   ]
  },
  {
   "cell_type": "code",
   "execution_count": 10,
   "id": "dcd614df-5d75-42bb-be85-3ee1bcbd76c6",
   "metadata": {},
   "outputs": [
    {
     "data": {
      "text/plain": [
       "<memory at 0x0000023BB57B1780>"
      ]
     },
     "execution_count": 10,
     "metadata": {},
     "output_type": "execute_result"
    }
   ],
   "source": [
    "num1_arr.data"
   ]
  },
  {
   "cell_type": "code",
   "execution_count": 11,
   "id": "3280e82e-8e33-42cb-9fdc-013134882bde",
   "metadata": {},
   "outputs": [
    {
     "data": {
      "text/plain": [
       "dtype('int64')"
      ]
     },
     "execution_count": 11,
     "metadata": {},
     "output_type": "execute_result"
    }
   ],
   "source": [
    "num1_arr.dtype # 해당되는배열의 데이터 타입을 출력"
   ]
  },
  {
   "cell_type": "code",
   "execution_count": 12,
   "id": "96487381-8c37-4ec7-872d-1930a4cd31ae",
   "metadata": {},
   "outputs": [
    {
     "data": {
      "text/plain": [
       "(3,)"
      ]
     },
     "execution_count": 12,
     "metadata": {},
     "output_type": "execute_result"
    }
   ],
   "source": [
    "num1_arr.shape"
   ]
  },
  {
   "cell_type": "code",
   "execution_count": 13,
   "id": "6cfd107b-2b7f-424b-80bd-c5e7338a6c17",
   "metadata": {},
   "outputs": [
    {
     "data": {
      "text/plain": [
       "1"
      ]
     },
     "execution_count": 13,
     "metadata": {},
     "output_type": "execute_result"
    }
   ],
   "source": [
    "num1_arr.ndim"
   ]
  },
  {
   "cell_type": "code",
   "execution_count": 14,
   "id": "577825e8-f852-48f5-93fe-6d64c7c043a0",
   "metadata": {},
   "outputs": [
    {
     "data": {
      "text/plain": [
       "np.int64(3)"
      ]
     },
     "execution_count": 14,
     "metadata": {},
     "output_type": "execute_result"
    }
   ],
   "source": [
    "num1_arr.max()"
   ]
  },
  {
   "cell_type": "markdown",
   "id": "439d4621-cbd9-4267-9022-b48b2cbd819e",
   "metadata": {},
   "source": [
    "# 배열\n",
    "0~1000000"
   ]
  },
  {
   "cell_type": "code",
   "execution_count": 15,
   "id": "789e7571-dbd7-4433-8a87-a52b4854b5e8",
   "metadata": {},
   "outputs": [
    {
     "data": {
      "text/plain": [
       "dtype('int8')"
      ]
     },
     "execution_count": 15,
     "metadata": {},
     "output_type": "execute_result"
    }
   ],
   "source": [
    "num1_arr = np.array(num1, dtype=\"int8\")\n",
    "num1_arr.dtype"
   ]
  },
  {
   "cell_type": "markdown",
   "id": "4118edc4-ab9f-482f-95d3-919b15c674a5",
   "metadata": {},
   "source": [
    "## 배열 만드는 방법"
   ]
  },
  {
   "cell_type": "code",
   "execution_count": 16,
   "id": "991f161f-6e6c-45cf-b6c9-873e07d8c6e8",
   "metadata": {},
   "outputs": [
    {
     "name": "stdout",
     "output_type": "stream",
     "text": [
      "[1. 1. 1.]\n"
     ]
    }
   ],
   "source": [
    "# 기본적으로  다른 데이터 자료형으로 numpy  배열로 변환\n",
    "# 배열 생성\n",
    "print(np.ones(3))\n"
   ]
  },
  {
   "cell_type": "code",
   "execution_count": 18,
   "id": "c1651df6-0f4c-4f5d-b172-1bf2fb97b4ea",
   "metadata": {},
   "outputs": [
    {
     "name": "stdout",
     "output_type": "stream",
     "text": [
      "[0. 0. 0. 0. 0.]\n"
     ]
    }
   ],
   "source": [
    "print(np.zeros(5))"
   ]
  },
  {
   "cell_type": "code",
   "execution_count": 22,
   "id": "08457d41-f2f8-4d14-bfa4-36e130c1a0e3",
   "metadata": {},
   "outputs": [
    {
     "name": "stdout",
     "output_type": "stream",
     "text": [
      "[[[6.23042070e-307 2.67020135e-306]\n",
      "  [1.69121096e-306 1.78019082e-306]]\n",
      "\n",
      " [[4.67296746e-307 1.42413555e-306]\n",
      "  [3.22646744e-307 1.37959740e-306]]]\n"
     ]
    }
   ],
   "source": [
    "# 1차원, 2차원 ,3차원,4차원\n",
    "print(np.ndarray(shape=(2,2,2),dtype=float, order ='F'))\n"
   ]
  },
  {
   "cell_type": "code",
   "execution_count": 26,
   "id": "f7c9e55b-d94e-42e2-9a62-759d8e6acbf9",
   "metadata": {},
   "outputs": [
    {
     "data": {
      "text/plain": [
       "(2, 2, 2)"
      ]
     },
     "execution_count": 26,
     "metadata": {},
     "output_type": "execute_result"
    }
   ],
   "source": [
    "arr = np.ndarray(shape=(2,2,2),dtype=float, order ='F')\n",
    "arr.shape"
   ]
  },
  {
   "cell_type": "markdown",
   "id": "f3dedb65-0293-4a0c-aadc-ff48ac87e079",
   "metadata": {},
   "source": [
    "# 배열의 차원을 변경"
   ]
  },
  {
   "cell_type": "code",
   "execution_count": 32,
   "id": "6a1beba0-28fe-4d07-8e8f-53a21a6efcdf",
   "metadata": {},
   "outputs": [
    {
     "data": {
      "text/plain": [
       "array([[[ 0,  1,  2,  3,  4,  5,  6,  7],\n",
       "        [ 8,  9, 10, 11, 12, 13, 14, 15]]])"
      ]
     },
     "execution_count": 32,
     "metadata": {},
     "output_type": "execute_result"
    }
   ],
   "source": [
    "temp_arr = np.arange(16)\n",
    "temp_arr.reshape(1,2,8)"
   ]
  },
  {
   "cell_type": "code",
   "execution_count": 33,
   "id": "e4f8511e-a9f1-41ae-8971-54da6d4690d1",
   "metadata": {},
   "outputs": [
    {
     "ename": "ValueError",
     "evalue": "cannot reshape array of size 16 into shape (2,2,8)",
     "output_type": "error",
     "traceback": [
      "\u001b[1;31m---------------------------------------------------------------------------\u001b[0m",
      "\u001b[1;31mValueError\u001b[0m                                Traceback (most recent call last)",
      "Cell \u001b[1;32mIn[33], line 2\u001b[0m\n\u001b[0;32m      1\u001b[0m temp_arr \u001b[38;5;241m=\u001b[39m np\u001b[38;5;241m.\u001b[39marange(\u001b[38;5;241m16\u001b[39m)\n\u001b[1;32m----> 2\u001b[0m \u001b[43mtemp_arr\u001b[49m\u001b[38;5;241;43m.\u001b[39;49m\u001b[43mreshape\u001b[49m\u001b[43m(\u001b[49m\u001b[38;5;241;43m2\u001b[39;49m\u001b[43m,\u001b[49m\u001b[38;5;241;43m2\u001b[39;49m\u001b[43m,\u001b[49m\u001b[38;5;241;43m8\u001b[39;49m\u001b[43m)\u001b[49m\n",
      "\u001b[1;31mValueError\u001b[0m: cannot reshape array of size 16 into shape (2,2,8)"
     ]
    }
   ],
   "source": [
    "temp_arr = np.arange(16)\n",
    "temp_arr.reshape(2,2,8)"
   ]
  },
  {
   "cell_type": "code",
   "execution_count": 34,
   "id": "954ee649-eae6-47ed-ac19-ab3cae3608ab",
   "metadata": {},
   "outputs": [
    {
     "name": "stdout",
     "output_type": "stream",
     "text": [
      "[1.333]\n",
      "[1.333333]\n"
     ]
    }
   ],
   "source": [
    "a16 = np.array([1.333333], dtype = np.float16)\n",
    "a32 = np.array([1.333333], dtype = np.float32)\n",
    "\n",
    "print(a16)\n",
    "print(a32)"
   ]
  },
  {
   "cell_type": "code",
   "execution_count": 35,
   "id": "dd017e8d-51d4-4c82-8f50-9d6e20149972",
   "metadata": {},
   "outputs": [
    {
     "name": "stderr",
     "output_type": "stream",
     "text": [
      "C:\\Users\\campus3S005\\AppData\\Local\\Temp\\ipykernel_9368\\3226697582.py:2: RuntimeWarning: divide by zero encountered in divide\n",
      "  arr/0\n"
     ]
    },
    {
     "data": {
      "text/plain": [
       "array([-inf,  inf, -inf])"
      ]
     },
     "execution_count": 35,
     "metadata": {},
     "output_type": "execute_result"
    }
   ],
   "source": [
    "arr =np.array([-1,2,-3])\n",
    "arr/0"
   ]
  },
  {
   "cell_type": "markdown",
   "id": "3b67f93f-84b3-47c3-b1a2-b6cca2ba2fce",
   "metadata": {},
   "source": [
    "## 결측치\n",
    "- Missing values : 잃어버린 값\n",
    "- nan : Not a Number, => 아직 정의되지 않은 숫자 의미"
   ]
  },
  {
   "cell_type": "code",
   "execution_count": 37,
   "id": "9545e0fb-3593-4f01-8aad-6a31c1e7aa25",
   "metadata": {},
   "outputs": [
    {
     "name": "stdout",
     "output_type": "stream",
     "text": [
      "nan <class 'float'>\n"
     ]
    }
   ],
   "source": [
    "print(np.nan, type(np.nan))"
   ]
  },
  {
   "cell_type": "code",
   "execution_count": 40,
   "id": "244de27d-5391-47ed-9ab3-336a92c9ae4f",
   "metadata": {},
   "outputs": [
    {
     "name": "stdout",
     "output_type": "stream",
     "text": [
      "inf <class 'float'>\n"
     ]
    }
   ],
   "source": [
    "print(np.inf, type(np.inf))"
   ]
  },
  {
   "cell_type": "code",
   "execution_count": 41,
   "id": "bb71e6c9-695a-421c-8a73-10b63de3fc08",
   "metadata": {},
   "outputs": [
    {
     "name": "stdout",
     "output_type": "stream",
     "text": [
      "-inf <class 'float'>\n"
     ]
    }
   ],
   "source": [
    "print(-np.inf, type(-np.inf))"
   ]
  },
  {
   "cell_type": "code",
   "execution_count": 43,
   "id": "99a75935-6f43-4109-90a3-ef856ebce3ec",
   "metadata": {},
   "outputs": [
    {
     "name": "stdout",
     "output_type": "stream",
     "text": [
      "[nan nan nan]\n",
      "[inf inf inf]\n"
     ]
    }
   ],
   "source": [
    "arr = np.array([-1,2,-3])\n",
    "print(arr + np.nan)\n",
    "print(arr + np.inf)"
   ]
  },
  {
   "cell_type": "markdown",
   "id": "0f98eb49-b2e6-4f95-96ca-d8aef3915106",
   "metadata": {},
   "source": [
    "# 인덱싱 & 슬라이싱"
   ]
  },
  {
   "cell_type": "code",
   "execution_count": 45,
   "id": "fee303b9-4dab-41e1-95cf-c99c8717d704",
   "metadata": {},
   "outputs": [
    {
     "data": {
      "text/plain": [
       "array([1, 2, 3, 4])"
      ]
     },
     "execution_count": 45,
     "metadata": {},
     "output_type": "execute_result"
    }
   ],
   "source": [
    "arr = np.arange(10)\n",
    "arr[1:5]"
   ]
  },
  {
   "cell_type": "code",
   "execution_count": 48,
   "id": "7ffb96c4-494d-4dcd-8735-01fba9f91f81",
   "metadata": {},
   "outputs": [
    {
     "data": {
      "text/plain": [
       "np.int64(1)"
      ]
     },
     "execution_count": 48,
     "metadata": {},
     "output_type": "execute_result"
    }
   ],
   "source": [
    "arr = np.arange(10).reshape(2,5)\n",
    "arr[0] [1]"
   ]
  },
  {
   "cell_type": "code",
   "execution_count": 52,
   "id": "a1b9538d-725e-4be4-8d7b-bd69f713eef4",
   "metadata": {},
   "outputs": [
    {
     "data": {
      "text/plain": [
       "array([[ 0,  1,  2,  3,  4,  5,  6,  7,  8,  9, 10, 11, 12, 13, 14, 15,\n",
       "        16, 17, 18, 19, 20, 21, 22, 23, 24, 25, 26, 27, 28, 29, 30, 31,\n",
       "        32, 33, 34, 35, 36, 37, 38, 39, 40, 41, 42, 43, 44, 45, 46, 47,\n",
       "        48, 49, 50, 51, 52, 53, 54, 55, 56, 57, 58, 59, 60, 61, 62, 63,\n",
       "        64, 65, 66, 67, 68, 69, 70, 71, 72, 73, 74, 75, 76, 77, 78, 79,\n",
       "        80, 81, 82, 83, 84, 85, 86, 87, 88, 89, 90, 91, 92, 93, 94, 95,\n",
       "        96, 97, 98, 99]])"
      ]
     },
     "execution_count": 52,
     "metadata": {},
     "output_type": "execute_result"
    }
   ],
   "source": [
    "arr = np.arange(10000).reshape(100,100)\n",
    "arr[0:4][0:1]"
   ]
  },
  {
   "cell_type": "code",
   "execution_count": 54,
   "id": "8160162d-e523-471b-a1a9-fb2cac772032",
   "metadata": {},
   "outputs": [
    {
     "data": {
      "text/plain": [
       "array([0, 1])"
      ]
     },
     "execution_count": 54,
     "metadata": {},
     "output_type": "execute_result"
    }
   ],
   "source": [
    "arr = np.arange(4)\n",
    "arr[:2]"
   ]
  },
  {
   "cell_type": "code",
   "execution_count": 89,
   "id": "eed906a2-da22-4196-892a-d2504e86842b",
   "metadata": {},
   "outputs": [
    {
     "data": {
      "text/plain": [
       "array([[ 7,  8,  9],\n",
       "       [12, 13, 14],\n",
       "       [17, 18, 19]])"
      ]
     },
     "execution_count": 89,
     "metadata": {},
     "output_type": "execute_result"
    }
   ],
   "source": [
    "arr = np.arange(20).reshape(4,5)\n",
    "arr[1:4,2:5] "
   ]
  },
  {
   "cell_type": "code",
   "execution_count": 91,
   "id": "b26c1fcd-9b3a-4ede-bbf7-5ab5f6b5a014",
   "metadata": {},
   "outputs": [
    {
     "data": {
      "text/plain": [
       "array([[ 8,  9],\n",
       "       [13, 14],\n",
       "       [18, 19]])"
      ]
     },
     "execution_count": 91,
     "metadata": {},
     "output_type": "execute_result"
    }
   ],
   "source": [
    "# arr [행,열]\n",
    "arr[1:,3:]"
   ]
  },
  {
   "cell_type": "markdown",
   "id": "43a3341e-81c6-492d-90b5-871066d1e4f3",
   "metadata": {},
   "source": [
    "## 브로드캐스팅 연산"
   ]
  },
  {
   "cell_type": "code",
   "execution_count": 92,
   "id": "6327ed2c-850a-41ee-8189-2ae34b7bfac0",
   "metadata": {},
   "outputs": [
    {
     "data": {
      "text/plain": [
       "array([4., 5., 6.])"
      ]
     },
     "execution_count": 92,
     "metadata": {},
     "output_type": "execute_result"
    }
   ],
   "source": [
    "a = np.array([1,2,3])\n",
    "             # 3.0 3.0 3.0\n",
    "b = 3.0\n",
    "a + b"
   ]
  },
  {
   "cell_type": "markdown",
   "id": "80727a73-a4dd-4d35-b7ff-1036a319487d",
   "metadata": {},
   "source": [
    "## 조건 연산\n",
    "- 원하는 결과값 : True/False"
   ]
  },
  {
   "cell_type": "code",
   "execution_count": 94,
   "id": "b151d754-3c67-4da9-bc79-1124ef418403",
   "metadata": {},
   "outputs": [
    {
     "data": {
      "text/plain": [
       "array([False,  True,  True])"
      ]
     },
     "execution_count": 94,
     "metadata": {},
     "output_type": "execute_result"
    }
   ],
   "source": [
    "arr = np.array([10,20,30])\n",
    "arr > 10"
   ]
  },
  {
   "cell_type": "code",
   "execution_count": 95,
   "id": "662b43df-9b8c-47b0-92fa-2f5b7b06f44a",
   "metadata": {},
   "outputs": [
    {
     "data": {
      "text/plain": [
       "array([20, 30])"
      ]
     },
     "execution_count": 95,
     "metadata": {},
     "output_type": "execute_result"
    }
   ],
   "source": [
    "arr = np.array([10,20,30])\n",
    "cond = [False, True, True]\n",
    "\n",
    "arr[cond]"
   ]
  },
  {
   "cell_type": "code",
   "execution_count": 97,
   "id": "58f0c0f0-430c-402a-8f38-575bc44d9e02",
   "metadata": {},
   "outputs": [
    {
     "data": {
      "text/plain": [
       "array([20, 30, 50, 30])"
      ]
     },
     "execution_count": 97,
     "metadata": {},
     "output_type": "execute_result"
    }
   ],
   "source": [
    "arr = np.array([18,20,30,50,30,16])\n",
    "cond = arr > 18\n",
    "arr[cond]"
   ]
  },
  {
   "cell_type": "code",
   "execution_count": 99,
   "id": "09177464-61c9-40e4-b1e6-32db68141bda",
   "metadata": {},
   "outputs": [
    {
     "data": {
      "text/plain": [
       "array([20, 30, 50, 30])"
      ]
     },
     "execution_count": 99,
     "metadata": {},
     "output_type": "execute_result"
    }
   ],
   "source": [
    "arr = np.array([18,20,30,50,30,16])\n",
    "arr[arr>18]"
   ]
  },
  {
   "cell_type": "code",
   "execution_count": 109,
   "id": "e27e5b51-2d25-4f14-b506-4137da44b521",
   "metadata": {},
   "outputs": [
    {
     "data": {
      "text/plain": [
       "array([20, 30, 50, 30])"
      ]
     },
     "execution_count": 109,
     "metadata": {},
     "output_type": "execute_result"
    }
   ],
   "source": [
    "arr = np.array([18,20,30,50,30,16])\n",
    "cond0 = arr > 18\n",
    "cond1 = arr < 65\n",
    "\n",
    "\n",
    "arr[cond1 & cond0 ]"
   ]
  },
  {
   "cell_type": "code",
   "execution_count": 110,
   "id": "281c23a5-c13c-4d44-a5e4-bc5865af8ccb",
   "metadata": {},
   "outputs": [
    {
     "data": {
      "text/plain": [
       "array([18, 20, 30, 50, 30, 16])"
      ]
     },
     "execution_count": 110,
     "metadata": {},
     "output_type": "execute_result"
    }
   ],
   "source": [
    "arr[cond0 | cond1]"
   ]
  },
  {
   "cell_type": "code",
   "execution_count": 111,
   "id": "e9e7d720-fc1a-4451-9152-67e7899cbbd6",
   "metadata": {},
   "outputs": [
    {
     "data": {
      "text/plain": [
       "array([18, 20, 30, 50, 30, 16])"
      ]
     },
     "execution_count": 111,
     "metadata": {},
     "output_type": "execute_result"
    }
   ],
   "source": [
    "#권장사항, 이유 : pandas 다중조건 필터링\n",
    "# () 반드시 필요\n",
    "arr [(cond0 | cond1)]"
   ]
  },
  {
   "cell_type": "markdown",
   "id": "6a111c7f-aaca-4d69-af76-d70bb0958fa6",
   "metadata": {},
   "source": [
    "## np.where"
   ]
  },
  {
   "cell_type": "code",
   "execution_count": 115,
   "id": "f015384e-8daa-4d02-88a2-7c1b97042588",
   "metadata": {},
   "outputs": [
    {
     "data": {
      "text/plain": [
       "array([0, 1, 2, 3, 4, 5, 6, 7, 8, 9])"
      ]
     },
     "execution_count": 115,
     "metadata": {},
     "output_type": "execute_result"
    }
   ],
   "source": [
    "import numpy as np\n",
    "a = np.arange(10)\n",
    "a"
   ]
  },
  {
   "cell_type": "code",
   "execution_count": 116,
   "id": "5720e58c-cf97-4d26-95bb-bf2e04ba8718",
   "metadata": {},
   "outputs": [
    {
     "data": {
      "text/plain": [
       "array([ 0,  1,  2,  3,  4, 50, 60, 70, 80, 90])"
      ]
     },
     "execution_count": 116,
     "metadata": {},
     "output_type": "execute_result"
    }
   ],
   "source": [
    "np.where(a < 5 , a , 10*a)"
   ]
  },
  {
   "cell_type": "markdown",
   "id": "d78ecafc-7db9-42e7-af8f-f2de8a93c98c",
   "metadata": {},
   "source": [
    "# 함수와 메서드"
   ]
  },
  {
   "cell_type": "code",
   "execution_count": 124,
   "id": "b7bc0315-1afb-48b1-9b36-5f98925a4a43",
   "metadata": {},
   "outputs": [
    {
     "data": {
      "text/plain": [
       "array([[0, 1, 2, 3],\n",
       "       [4, 5, 6, 7]])"
      ]
     },
     "execution_count": 124,
     "metadata": {},
     "output_type": "execute_result"
    }
   ],
   "source": [
    "arr =np.arange(8).reshape(2,4)\n",
    "arr"
   ]
  },
  {
   "cell_type": "code",
   "execution_count": 121,
   "id": "d005741b-5651-4cb8-9d4b-6fa1c5dff215",
   "metadata": {},
   "outputs": [
    {
     "data": {
      "text/plain": [
       "np.int64(28)"
      ]
     },
     "execution_count": 121,
     "metadata": {},
     "output_type": "execute_result"
    }
   ],
   "source": [
    "arr.sum(axis = None)"
   ]
  },
  {
   "cell_type": "code",
   "execution_count": 125,
   "id": "d7855e42-09ad-46bd-8a7d-67e0abdcacf9",
   "metadata": {},
   "outputs": [
    {
     "data": {
      "text/plain": [
       "array([ 4,  6,  8, 10])"
      ]
     },
     "execution_count": 125,
     "metadata": {},
     "output_type": "execute_result"
    }
   ],
   "source": [
    "arr.sum(axis = 0) # x축 방향으로 데이터의 합을 구하여라 행 단위"
   ]
  },
  {
   "cell_type": "code",
   "execution_count": 126,
   "id": "ba2a0cc2-4ad1-4be4-ae45-b5c4cbc01f33",
   "metadata": {},
   "outputs": [
    {
     "data": {
      "text/plain": [
       "array([ 6, 22])"
      ]
     },
     "execution_count": 126,
     "metadata": {},
     "output_type": "execute_result"
    }
   ],
   "source": [
    "arr.sum(axis = 1) # Y축 방향으로 열 단위로 데이터의 합을 구하라"
   ]
  },
  {
   "cell_type": "code",
   "execution_count": 154,
   "id": "f70cd02f-5dc9-49c6-98f3-b38240717ddc",
   "metadata": {},
   "outputs": [
    {
     "data": {
      "text/plain": [
       "6"
      ]
     },
     "execution_count": 154,
     "metadata": {},
     "output_type": "execute_result"
    }
   ],
   "source": [
    "# 무작위 랜덤 함수 만들기\n",
    "np.random.seed(42) # 머신러닝 할때 , 이코드를 자주 사용\n",
    "np.random.randint(10)"
   ]
  },
  {
   "cell_type": "code",
   "execution_count": 155,
   "id": "8b39f67a-67e2-4b07-8250-f362be9be78c",
   "metadata": {},
   "outputs": [
    {
     "data": {
      "text/plain": [
       "array([28, 14, 42,  7, 20, 38], dtype=int32)"
      ]
     },
     "execution_count": 155,
     "metadata": {},
     "output_type": "execute_result"
    }
   ],
   "source": [
    "np.random.randint(46, size=6) # 46 의미하는 것은 0~45번쨰까지의 숫자중 무작위로 가져오겠음"
   ]
  },
  {
   "cell_type": "code",
   "execution_count": 169,
   "id": "0909c499-c786-4c36-b302-77c4e2fbea01",
   "metadata": {},
   "outputs": [
    {
     "data": {
      "text/plain": [
       "array([[18, 35, 11, 40],\n",
       "       [18, 11,  8,  6],\n",
       "       [27, 13, 30, 18]], dtype=int32)"
      ]
     },
     "execution_count": 169,
     "metadata": {},
     "output_type": "execute_result"
    }
   ],
   "source": [
    "np.random.randint(46, size=(3,4))"
   ]
  },
  {
   "cell_type": "code",
   "execution_count": 180,
   "id": "16519c56-da7a-4017-b7bc-4db4cfd6ad17",
   "metadata": {},
   "outputs": [
    {
     "name": "stdout",
     "output_type": "stream",
     "text": [
      "[  0.  10.  20.  30.  40.  50.  60.  70.  80.  90. 100.]\n"
     ]
    }
   ],
   "source": [
    "x = np.linspace(0,100,11)\n",
    "print(x)"
   ]
  },
  {
   "cell_type": "markdown",
   "id": "e4869368-88e5-4789-8e87-b4f05da11c26",
   "metadata": {},
   "source": [
    "# Pandas Series"
   ]
  },
  {
   "cell_type": "code",
   "execution_count": 182,
   "id": "35aebd4e-3a5a-4cdd-bca8-e7656bda5b24",
   "metadata": {},
   "outputs": [
    {
     "data": {
      "text/plain": [
       "'2.2.3'"
      ]
     },
     "execution_count": 182,
     "metadata": {},
     "output_type": "execute_result"
    }
   ],
   "source": [
    "import pandas as pd\n",
    "pd.__version__"
   ]
  },
  {
   "cell_type": "code",
   "execution_count": 183,
   "id": "34aea85e-00d0-43b0-b98e-25264bdb03b2",
   "metadata": {},
   "outputs": [
    {
     "data": {
      "text/plain": [
       "0    10\n",
       "1    20\n",
       "2    30\n",
       "dtype: int64"
      ]
     },
     "execution_count": 183,
     "metadata": {},
     "output_type": "execute_result"
    }
   ],
   "source": [
    "data = [10, 20 , 30]\n",
    "s = pd.Series(data)\n",
    "s"
   ]
  },
  {
   "cell_type": "code",
   "execution_count": 184,
   "id": "5cc8771f-c5a7-4369-b03b-84b2e932858f",
   "metadata": {},
   "outputs": [
    {
     "name": "stdout",
     "output_type": "stream",
     "text": [
      "<class 'pandas.core.series.Series'>\n"
     ]
    }
   ],
   "source": [
    "print(type(s))"
   ]
  },
  {
   "cell_type": "code",
   "execution_count": 185,
   "id": "32d68b44-543b-4b04-8ae6-a21119ea11a0",
   "metadata": {},
   "outputs": [
    {
     "data": {
      "text/plain": [
       "0    0\n",
       "1    1\n",
       "2    2\n",
       "3    3\n",
       "4    4\n",
       "dtype: int64"
      ]
     },
     "execution_count": 185,
     "metadata": {},
     "output_type": "execute_result"
    }
   ],
   "source": [
    "import numpy as np\n",
    "\n",
    "data = np.arange(5)\n",
    "s = pd.Series(data)\n",
    "s"
   ]
  },
  {
   "cell_type": "code",
   "execution_count": 190,
   "id": "7170c1c1-b0c8-4abf-ae86-cc29e9e70bed",
   "metadata": {},
   "outputs": [
    {
     "data": {
      "text/html": [
       "<div>\n",
       "<style scoped>\n",
       "    .dataframe tbody tr th:only-of-type {\n",
       "        vertical-align: middle;\n",
       "    }\n",
       "\n",
       "    .dataframe tbody tr th {\n",
       "        vertical-align: top;\n",
       "    }\n",
       "\n",
       "    .dataframe thead th {\n",
       "        text-align: right;\n",
       "    }\n",
       "</style>\n",
       "<table border=\"1\" class=\"dataframe\">\n",
       "  <thead>\n",
       "    <tr style=\"text-align: right;\">\n",
       "      <th></th>\n",
       "      <th>0</th>\n",
       "    </tr>\n",
       "  </thead>\n",
       "  <tbody>\n",
       "    <tr>\n",
       "      <th>0</th>\n",
       "      <td>0</td>\n",
       "    </tr>\n",
       "    <tr>\n",
       "      <th>1</th>\n",
       "      <td>1</td>\n",
       "    </tr>\n",
       "    <tr>\n",
       "      <th>2</th>\n",
       "      <td>2</td>\n",
       "    </tr>\n",
       "    <tr>\n",
       "      <th>3</th>\n",
       "      <td>3</td>\n",
       "    </tr>\n",
       "    <tr>\n",
       "      <th>4</th>\n",
       "      <td>4</td>\n",
       "    </tr>\n",
       "  </tbody>\n",
       "</table>\n",
       "</div>"
      ],
      "text/plain": [
       "   0\n",
       "0  0\n",
       "1  1\n",
       "2  2\n",
       "3  3\n",
       "4  4"
      ]
     },
     "execution_count": 190,
     "metadata": {},
     "output_type": "execute_result"
    }
   ],
   "source": [
    "import numpy as np\n",
    "\n",
    "data = np.arange(5)\n",
    "s = pd.DataFrame(data)\n",
    "s"
   ]
  },
  {
   "cell_type": "code",
   "execution_count": 191,
   "id": "31d39eb9-b81f-4afb-b7f5-db193f014d7f",
   "metadata": {},
   "outputs": [
    {
     "data": {
      "text/plain": [
       "0    시가\n",
       "1    고가\n",
       "dtype: object"
      ]
     },
     "execution_count": 191,
     "metadata": {},
     "output_type": "execute_result"
    }
   ],
   "source": [
    "data = [\"시가\",\"고가\"]\n",
    "s = pd.Series(data)\n",
    "s"
   ]
  },
  {
   "cell_type": "code",
   "execution_count": 192,
   "id": "7dee3dd9-101d-432d-bfa7-cb0512060a93",
   "metadata": {},
   "outputs": [
    {
     "data": {
      "text/plain": [
       "0    80000\n",
       "1    90000\n",
       "dtype: object"
      ]
     },
     "execution_count": 192,
     "metadata": {},
     "output_type": "execute_result"
    }
   ],
   "source": [
    "data = [80000,\"90000\"]\n",
    "s = pd.Series(data)\n",
    "s"
   ]
  },
  {
   "cell_type": "markdown",
   "id": "269e1217-649a-4ac8-974c-4fda4315184e",
   "metadata": {},
   "source": [
    "# 시리즈 인덱스"
   ]
  },
  {
   "cell_type": "code",
   "execution_count": 194,
   "id": "fbd101e2-b381-4d98-81fa-214abdc2b198",
   "metadata": {},
   "outputs": [
    {
     "name": "stdout",
     "output_type": "stream",
     "text": [
      "RangeIndex(start=0, stop=3, step=1) <class 'pandas.core.indexes.range.RangeIndex'>\n"
     ]
    }
   ],
   "source": [
    "data = [1000, 2000, 3000]\n",
    "s = pd.Series(data)\n",
    "print(s.index, type(s.index))"
   ]
  },
  {
   "cell_type": "code",
   "execution_count": 195,
   "id": "2a070db5-5ece-4a93-b35b-cd43ab3ee318",
   "metadata": {},
   "outputs": [
    {
     "data": {
      "text/plain": [
       "[0, 1, 2]"
      ]
     },
     "execution_count": 195,
     "metadata": {},
     "output_type": "execute_result"
    }
   ],
   "source": [
    "list(s.index) # 리스트로 형변환이 일어났다."
   ]
  },
  {
   "cell_type": "code",
   "execution_count": 196,
   "id": "bd94ff59-e8d2-4ac1-b2bf-5822d074992a",
   "metadata": {},
   "outputs": [
    {
     "data": {
      "text/plain": [
       "[0, 1, 2]"
      ]
     },
     "execution_count": 196,
     "metadata": {},
     "output_type": "execute_result"
    }
   ],
   "source": [
    "s.index.to_list() "
   ]
  },
  {
   "cell_type": "code",
   "execution_count": 198,
   "id": "39f4b462-f71f-476b-8557-34689496d821",
   "metadata": {},
   "outputs": [],
   "source": [
    "#help(s.index) #클래스에는 항상 속성과 메서드가 존재한다."
   ]
  },
  {
   "cell_type": "code",
   "execution_count": 220,
   "id": "dd336d9b-49d2-473c-a493-18981ebbecbf",
   "metadata": {},
   "outputs": [
    {
     "data": {
      "text/plain": [
       "메로나    1000\n",
       "자두바    2000\n",
       "와      3000\n",
       "dtype: int64"
      ]
     },
     "execution_count": 220,
     "metadata": {},
     "output_type": "execute_result"
    }
   ],
   "source": [
    "# 시리즈를 생성하면서 인덱스도 같이 생성 \n",
    "data = [1000, 2000, 3000]\n",
    "index = [\"메로나\",\"자두바\",\"와\"]\n",
    "\n",
    "s = pd.Series(data=data,index=index)\n",
    "s"
   ]
  },
  {
   "cell_type": "code",
   "execution_count": 221,
   "id": "5e09deb0-cf56-4487-871d-759eaf7b6ed7",
   "metadata": {},
   "outputs": [
    {
     "data": {
      "text/plain": [
       "(array([1000, 2000, 3000]), numpy.ndarray)"
      ]
     },
     "execution_count": 221,
     "metadata": {},
     "output_type": "execute_result"
    }
   ],
   "source": [
    "s.values , type(s.values)"
   ]
  },
  {
   "cell_type": "markdown",
   "id": "84b242dc-56a7-4bc3-84ee-07b1e47a7e7d",
   "metadata": {},
   "source": [
    "## 시리즈 인덱싱 "
   ]
  },
  {
   "cell_type": "code",
   "execution_count": 222,
   "id": "01a7956b-728b-4cd7-aaab-2703dd924328",
   "metadata": {},
   "outputs": [
    {
     "name": "stdout",
     "output_type": "stream",
     "text": [
      "3000\n"
     ]
    }
   ],
   "source": [
    "print(s.iloc[2])"
   ]
  },
  {
   "cell_type": "code",
   "execution_count": 223,
   "id": "abd22067-dcd8-4e5b-b507-53daa3996328",
   "metadata": {},
   "outputs": [
    {
     "name": "stdout",
     "output_type": "stream",
     "text": [
      "1000\n"
     ]
    }
   ],
   "source": [
    "print(s.loc['메로나'])"
   ]
  },
  {
   "cell_type": "code",
   "execution_count": 242,
   "id": "74a0118d-8bdb-446b-aac7-c86d3d199e1e",
   "metadata": {},
   "outputs": [
    {
     "name": "stdout",
     "output_type": "stream",
     "text": [
      "1000\n"
     ]
    },
    {
     "ename": "NameError",
     "evalue": "name 'loc' is not defined",
     "output_type": "error",
     "traceback": [
      "\u001b[1;31m---------------------------------------------------------------------------\u001b[0m",
      "\u001b[1;31mNameError\u001b[0m                                 Traceback (most recent call last)",
      "Cell \u001b[1;32mIn[242], line 6\u001b[0m\n\u001b[0;32m      4\u001b[0m s2\u001b[38;5;241m=\u001b[39m pd\u001b[38;5;241m.\u001b[39mSeries(data\u001b[38;5;241m=\u001b[39mdata)\n\u001b[0;32m      5\u001b[0m \u001b[38;5;28mprint\u001b[39m(s2\u001b[38;5;241m.\u001b[39miloc[\u001b[38;5;241m0\u001b[39m])\n\u001b[1;32m----> 6\u001b[0m \u001b[38;5;28mprint\u001b[39m(s2,\u001b[43mloc\u001b[49m([\u001b[38;5;124m'\u001b[39m\u001b[38;5;124m메로나\u001b[39m\u001b[38;5;124m'\u001b[39m]))  \u001b[38;5;66;03m#인덱스가 없어 에러가 난다 . 인덱스 기반으로 \u001b[39;00m\n",
      "\u001b[1;31mNameError\u001b[0m: name 'loc' is not defined"
     ]
    }
   ],
   "source": [
    "# 시리즈를 생성하면서 인덱스도 같이 생성 \n",
    "data = [1000, 2000, 3000]\n",
    "\n",
    "s2= pd.Series(data=data)\n",
    "print(s2.iloc[0])\n",
    "print(s2,loc['메로나'])  #인덱스가 없어 에러가 난다 . 인덱스 기반으로 "
   ]
  },
  {
   "cell_type": "code",
   "execution_count": 232,
   "id": "7f5df382-6c27-46f4-9434-298657cc9589",
   "metadata": {},
   "outputs": [
    {
     "name": "stdout",
     "output_type": "stream",
     "text": [
      "1000\n",
      "1000\n"
     ]
    }
   ],
   "source": [
    "print(s2.iloc[0]) #iloc 에서의 0은 위치 0을 의미\n",
    "print(s2.loc[0]) #ioc 에서의 0은 라벨 0을 의미 초반에는 기본값은 loc라 생각해라 "
   ]
  },
  {
   "cell_type": "markdown",
   "id": "1e3b564e-5838-4110-9573-321529401b2a",
   "metadata": {},
   "source": [
    "# 슬라이싱"
   ]
  },
  {
   "cell_type": "code",
   "execution_count": 233,
   "id": "afaa9d50-471d-44a6-b469-edd69e8198db",
   "metadata": {},
   "outputs": [
    {
     "data": {
      "text/plain": [
       "메로나    1000\n",
       "자두바    2000\n",
       "와      3000\n",
       "dtype: int64"
      ]
     },
     "execution_count": 233,
     "metadata": {},
     "output_type": "execute_result"
    }
   ],
   "source": [
    "s"
   ]
  },
  {
   "cell_type": "code",
   "execution_count": 243,
   "id": "14587e7f-53fa-4689-bd22-7d86af882b02",
   "metadata": {},
   "outputs": [
    {
     "data": {
      "text/plain": [
       "메로나    1000\n",
       "자두바    2000\n",
       "와      3000\n",
       "dtype: int64"
      ]
     },
     "execution_count": 243,
     "metadata": {},
     "output_type": "execute_result"
    }
   ],
   "source": [
    "s.loc[\"메로나\":\"와\"]"
   ]
  },
  {
   "cell_type": "markdown",
   "id": "8d871fd2-80ae-4c08-a84e-0670252c0f16",
   "metadata": {},
   "source": [
    "s2"
   ]
  },
  {
   "cell_type": "code",
   "execution_count": 245,
   "id": "275a581a-adb1-4176-9fcc-a6a60e1c008a",
   "metadata": {},
   "outputs": [
    {
     "data": {
      "text/plain": [
       "0    1000\n",
       "1    2000\n",
       "dtype: int64"
      ]
     },
     "execution_count": 245,
     "metadata": {},
     "output_type": "execute_result"
    }
   ],
   "source": [
    "s2.iloc[0:2]"
   ]
  },
  {
   "cell_type": "code",
   "execution_count": 246,
   "id": "f04e3500-c7fb-4a8e-833f-113091c9e0f6",
   "metadata": {},
   "outputs": [
    {
     "data": {
      "text/plain": [
       "0    1000\n",
       "1    2000\n",
       "2    3000\n",
       "dtype: int64"
      ]
     },
     "execution_count": 246,
     "metadata": {},
     "output_type": "execute_result"
    }
   ],
   "source": [
    "s2.loc[0:2]"
   ]
  },
  {
   "cell_type": "markdown",
   "id": "f99cdfdd-72f7-4350-b621-e3b32a27f376",
   "metadata": {},
   "source": [
    "## 시리즈 수정/추가/삭제"
   ]
  },
  {
   "cell_type": "code",
   "execution_count": 249,
   "id": "42d9a05b-3887-4f3f-9439-a801d55241e7",
   "metadata": {},
   "outputs": [
    {
     "data": {
      "text/plain": [
       "메로나    1000\n",
       "자두바    2000\n",
       "와      3000\n",
       "dtype: int64"
      ]
     },
     "execution_count": 249,
     "metadata": {},
     "output_type": "execute_result"
    }
   ],
   "source": [
    "data = [1000, 2000, 3000]\n",
    "index = [\"메로나\",\"자두바\",\"와\"]\n",
    "\n",
    "s = pd.Series(data=data, index= index)"
   ]
  },
  {
   "cell_type": "code",
   "execution_count": 253,
   "id": "31da2e34-ee73-46a1-8aad-966af2538568",
   "metadata": {},
   "outputs": [
    {
     "data": {
      "text/plain": [
       "메로나     500\n",
       "자두바    2000\n",
       "와      3000\n",
       "dtype: int64"
      ]
     },
     "execution_count": 253,
     "metadata": {},
     "output_type": "execute_result"
    }
   ],
   "source": [
    "s.loc['메로나'] = 500 #가독성이 훨씬 좋음 \n",
    "s"
   ]
  },
  {
   "cell_type": "markdown",
   "id": "a8f129f0-5627-49c2-95e8-921d94fecb6f",
   "metadata": {},
   "source": [
    "# 시리즈 연산\n"
   ]
  },
  {
   "cell_type": "code",
   "execution_count": 255,
   "id": "3dd9ec85-0398-4318-988c-517aef5f2eed",
   "metadata": {},
   "outputs": [
    {
     "data": {
      "text/plain": [
       "APPLE    40\n",
       "NAVER    40\n",
       "엔비디아     40\n",
       "dtype: int64"
      ]
     },
     "execution_count": 255,
     "metadata": {},
     "output_type": "execute_result"
    }
   ],
   "source": [
    "import pandas as pd\n",
    "\n",
    "evan = pd.Series([10, 20, 30], index=['NAVER','APPLE','엔비디아'])\n",
    "딸1 = pd.Series([10, 30 , 20], index=[\"엔비디아\",\"NAVER\",\"APPLE\"])\n",
    "\n",
    "# 우리가족이 보유하고 있는 주식의 숫자를 계산\n",
    "evan +딸1"
   ]
  },
  {
   "cell_type": "code",
   "execution_count": 276,
   "id": "073c06a9-acaf-4835-9f0d-fe7a1525d4b7",
   "metadata": {},
   "outputs": [
    {
     "data": {
      "text/plain": [
       "엔비디아     10\n",
       "NAVER    30\n",
       "APPLE    20\n",
       "dtype: int64"
      ]
     },
     "execution_count": 276,
     "metadata": {},
     "output_type": "execute_result"
    }
   ],
   "source": [
    "딸1"
   ]
  },
  {
   "cell_type": "code",
   "execution_count": 292,
   "id": "4425a67b-8cb6-4406-bc83-750864ca0276",
   "metadata": {},
   "outputs": [
    {
     "data": {
      "text/plain": [
       "APPLE    40.0\n",
       "NAVER    40.0\n",
       "엔비디아      NaN\n",
       "테슬라       NaN\n",
       "dtype: float64"
      ]
     },
     "execution_count": 292,
     "metadata": {},
     "output_type": "execute_result"
    }
   ],
   "source": [
    "evan + 딸1"
   ]
  },
  {
   "cell_type": "code",
   "execution_count": 278,
   "id": "bc148942-aeeb-4276-9633-1c2ab0bf313b",
   "metadata": {},
   "outputs": [
    {
     "data": {
      "text/plain": [
       "APPLE    40.0\n",
       "NAVER    40.0\n",
       "엔비디아      NaN\n",
       "테슬라       NaN\n",
       "dtype: float64"
      ]
     },
     "execution_count": 278,
     "metadata": {},
     "output_type": "execute_result"
    }
   ],
   "source": [
    "evan = pd.Series([10, 20, 30], index=['NAVER','APPLE','테슬라'])\n",
    "딸1 = pd.Series([10, 30 , 20], index=[\"엔비디아\",\"NAVER\",\"APPLE\"])\n",
    "\n",
    "# 우리가족이 보유하고 있는 주식의 숫자를 계산\n",
    "evan +딸1"
   ]
  },
  {
   "cell_type": "code",
   "execution_count": 305,
   "id": "e1c5f8d3-3976-4dfa-978e-9397f49961d5",
   "metadata": {},
   "outputs": [
    {
     "name": "stdout",
     "output_type": "stream",
     "text": [
      "6/1    650\n",
      "6/2    550\n",
      "6/3    750\n",
      "6/4    800\n",
      "6/5    650\n",
      "dtype: int64\n"
     ]
    }
   ],
   "source": [
    "date = [\"6/1\", \"6/2\", \"6/3\", \"6/4\", \"6/5\"]\n",
    "high =pd.Series([42800, 42700, 42050, 42950, 43000], index=date)\n",
    "low =pd.Series([42150, 42150, 41300, 42150, 42350] , index=date)\n",
    "\n",
    "diff = high - low\n",
    "print(diff)"
   ]
  },
  {
   "cell_type": "code",
   "execution_count": 310,
   "id": "4ce038c5-b243-4551-bce3-409a04401136",
   "metadata": {},
   "outputs": [
    {
     "data": {
      "text/plain": [
       "('6/4', np.int64(800))"
      ]
     },
     "execution_count": 310,
     "metadata": {},
     "output_type": "execute_result"
    }
   ],
   "source": [
    "diff.idxmax(), diff[diff.idxmax()]"
   ]
  },
  {
   "cell_type": "code",
   "execution_count": 311,
   "id": "077347b6-fdf4-4bfa-a6be-cb6713591e86",
   "metadata": {},
   "outputs": [
    {
     "data": {
      "text/plain": [
       "('6/2', np.int64(550))"
      ]
     },
     "execution_count": 311,
     "metadata": {},
     "output_type": "execute_result"
    }
   ],
   "source": [
    "diff.idxmin(), diff[diff.idxmin()]"
   ]
  },
  {
   "cell_type": "code",
   "execution_count": 313,
   "id": "ccfae525-827e-40b4-b282-e5e5ef6a39c6",
   "metadata": {},
   "outputs": [
    {
     "data": {
      "text/plain": [
       "6/1    1.015421\n",
       "6/2    1.013049\n",
       "6/3    1.018160\n",
       "6/4    1.018980\n",
       "6/5    1.015348\n",
       "dtype: float64"
      ]
     },
     "execution_count": 313,
     "metadata": {},
     "output_type": "execute_result"
    }
   ],
   "source": [
    "profit = high/low #단순 수익률 계산\n",
    "profit"
   ]
  },
  {
   "cell_type": "code",
   "execution_count": 314,
   "id": "6cf7357d-698c-4c92-8eda-3926dd972481",
   "metadata": {},
   "outputs": [
    {
     "data": {
      "text/plain": [
       "6/1    1.015421\n",
       "6/2    1.028671\n",
       "6/3    1.047351\n",
       "6/4    1.067230\n",
       "6/5    1.083610\n",
       "dtype: float64"
      ]
     },
     "execution_count": 314,
     "metadata": {},
     "output_type": "execute_result"
    }
   ],
   "source": [
    "profit.cumprod()"
   ]
  },
  {
   "cell_type": "markdown",
   "id": "fae16499-d8a4-4478-a853-4e4d372d40ef",
   "metadata": {},
   "source": [
    "# 시리즈와 Map "
   ]
  },
  {
   "cell_type": "code",
   "execution_count": 316,
   "id": "a3baea6d-1134-4cb4-a702-a0fc63cb7612",
   "metadata": {},
   "outputs": [
    {
     "data": {
      "text/plain": [
       "(int, 1234)"
      ]
     },
     "execution_count": 316,
     "metadata": {},
     "output_type": "execute_result"
    }
   ],
   "source": [
    "text = '1,234'\n",
    "result = int(text.replace(',',''))\n",
    "type(result),result"
   ]
  },
  {
   "cell_type": "code",
   "execution_count": 319,
   "id": "45c6a699-f692-49d5-8547-93b3cb36b54f",
   "metadata": {},
   "outputs": [
    {
     "data": {
      "text/plain": [
       "[1234, 5678, 12345]"
      ]
     },
     "execution_count": 319,
     "metadata": {},
     "output_type": "execute_result"
    }
   ],
   "source": [
    "num_str= (['1,234','5,678','12,345'])  #판다스를 쓰지않고 원래의 문자열을 정수형을 바꾸는 \n",
    "results = []\n",
    "for num in num_str:\n",
    "    temp = int(num.replace(',',''))\n",
    "    results.append(temp)\n",
    "\n",
    "results"
   ]
  },
  {
   "cell_type": "code",
   "execution_count": 321,
   "id": "226b9ac8-ee13-4703-8945-3e6ab70d5be2",
   "metadata": {},
   "outputs": [],
   "source": [
    "def rm_coma(x):\n",
    "    return int(num.replace(',',''))"
   ]
  },
  {
   "cell_type": "code",
   "execution_count": 322,
   "id": "f1a10750-debe-41f2-99c2-7428c29eaa4e",
   "metadata": {},
   "outputs": [
    {
     "data": {
      "text/plain": [
       "0    12345\n",
       "1    12345\n",
       "2    12345\n",
       "dtype: int64"
      ]
     },
     "execution_count": 322,
     "metadata": {},
     "output_type": "execute_result"
    }
   ],
   "source": [
    "s = pd.Series(['1,234','5,678','12,345']) \n",
    "result =  s.map(rm_coma)\n",
    "result"
   ]
  },
  {
   "cell_type": "code",
   "execution_count": 323,
   "id": "7beaecc2-6456-4d92-b6e3-eb1ab6130908",
   "metadata": {},
   "outputs": [
    {
     "data": {
      "text/plain": [
       "0     1234.56\n",
       "1     5678.90\n",
       "2    12345.67\n",
       "dtype: float64"
      ]
     },
     "execution_count": 323,
     "metadata": {},
     "output_type": "execute_result"
    }
   ],
   "source": [
    "def remove_dollar_sign(x):\n",
    "    return float(x.replace('$', '').replace(',', ''))\n",
    "s = pd.Series(['$1,234.56', '$5,678.90', '$12,345.67'])\n",
    "result = s.map(remove_dollar_sign)\n",
    "result"
   ]
  },
  {
   "cell_type": "markdown",
   "id": "1c6c367f-3727-4dea-bd75-e67d07331bfa",
   "metadata": {},
   "source": [
    "## 문제\n",
    "- 기준점이 13 이상\n",
    "  + 크다 or 작다"
   ]
  },
  {
   "cell_type": "code",
   "execution_count": 330,
   "id": "5423f1b1-d243-4435-abaf-af9e3df0b12c",
   "metadata": {},
   "outputs": [
    {
     "data": {
      "text/plain": [
       "0    작다\n",
       "1    크다\n",
       "2    작다\n",
       "3    크다\n",
       "4    크다\n",
       "dtype: object"
      ]
     },
     "execution_count": 330,
     "metadata": {},
     "output_type": "execute_result"
    }
   ],
   "source": [
    "def is_greater_13(x): \n",
    "\n",
    "    return_text = None\n",
    "    if x >= 13:\n",
    "        return \"크다\"\n",
    "    else:\n",
    "        return \"작다\" \n",
    "\n",
    "s = pd.Series([10, 15, 7, 20, 13])\n",
    "s.map(is_greater_13)"
   ]
  },
  {
   "cell_type": "code",
   "execution_count": 331,
   "id": "07f56d47-f14e-43a9-8f95-1ce795bcd1d4",
   "metadata": {},
   "outputs": [
    {
     "name": "stdout",
     "output_type": "stream",
     "text": [
      "0    작다\n",
      "1    크다\n",
      "2    작다\n",
      "3    크다\n",
      "4    크다\n",
      "dtype: object\n"
     ]
    }
   ],
   "source": [
    "result = s.map(lambda x:'크다'if x >= 13 else '작다')\n",
    "print(result)"
   ]
  },
  {
   "cell_type": "code",
   "execution_count": 332,
   "id": "ed3e3c10-ce74-46d4-8011-63beaae67320",
   "metadata": {},
   "outputs": [
    {
     "name": "stdout",
     "output_type": "stream",
     "text": [
      "0    작다\n",
      "1    크다\n",
      "2    작다\n",
      "3    크다\n",
      "4    크다\n",
      "dtype: object\n"
     ]
    }
   ],
   "source": [
    "result = s.apply(lambda x:'크다'if x >= 13 else '작다')\n",
    "print(result)"
   ]
  },
  {
   "cell_type": "markdown",
   "id": "2ca4806e-163a-4fce-977a-b7aa7a6ae2e6",
   "metadata": {},
   "source": [
    "# 필터링"
   ]
  },
  {
   "cell_type": "code",
   "execution_count": 334,
   "id": "c9f34037-fc6b-4f5d-b2b6-2c3458171b2e",
   "metadata": {},
   "outputs": [
    {
     "data": {
      "text/plain": [
       "2019-05-31    42500\n",
       "2019-05-30    42550\n",
       "2019-05-29    41800\n",
       "2019-05-28    42550\n",
       "2019-05-27    42650\n",
       "dtype: int64"
      ]
     },
     "execution_count": 334,
     "metadata": {},
     "output_type": "execute_result"
    }
   ],
   "source": [
    "data = [42500, 42550, 41800, 42550, 42650]\n",
    "index = ['2019-05-31', '2019-05-30', '2019-05-29', '2019-05-28', '2019-05-27']\n",
    "s = pd.Series(data=data, index=index)\n",
    "s"
   ]
  },
  {
   "cell_type": "code",
   "execution_count": 337,
   "id": "15708433-9266-4a20-b5dc-edb2f3cfd5f2",
   "metadata": {},
   "outputs": [
    {
     "name": "stdout",
     "output_type": "stream",
     "text": [
      "2019-05-31     True\n",
      "2019-05-30     True\n",
      "2019-05-29    False\n",
      "2019-05-28     True\n",
      "2019-05-27     True\n",
      "dtype: bool\n"
     ]
    }
   ],
   "source": [
    "cond = s > 42000\n",
    "print(cond)"
   ]
  },
  {
   "cell_type": "code",
   "execution_count": 338,
   "id": "d48c8faa-acbf-4026-8ea0-186c399b03a0",
   "metadata": {},
   "outputs": [
    {
     "data": {
      "text/plain": [
       "2019-05-31    42500\n",
       "2019-05-30    42550\n",
       "2019-05-28    42550\n",
       "2019-05-27    42650\n",
       "dtype: int64"
      ]
     },
     "execution_count": 338,
     "metadata": {},
     "output_type": "execute_result"
    }
   ],
   "source": [
    "s [cond]"
   ]
  },
  {
   "cell_type": "code",
   "execution_count": 339,
   "id": "fbad348f-06bb-46c9-881e-b8bd358b6bf3",
   "metadata": {},
   "outputs": [
    {
     "data": {
      "text/plain": [
       "2019-05-31    42500\n",
       "2019-05-30    42550\n",
       "2019-05-28    42550\n",
       "2019-05-27    42650\n",
       "dtype: int64"
      ]
     },
     "execution_count": 339,
     "metadata": {},
     "output_type": "execute_result"
    }
   ],
   "source": [
    "s[s > 42000]"
   ]
  },
  {
   "cell_type": "code",
   "execution_count": 355,
   "id": "b3aaca3f-49ed-445a-a88f-d9eaccaeb36d",
   "metadata": {},
   "outputs": [
    {
     "data": {
      "text/plain": [
       "2019-05-30    42550\n",
       "2019-05-27    42650\n",
       "dtype: int64"
      ]
     },
     "execution_count": 355,
     "metadata": {},
     "output_type": "execute_result"
    }
   ],
   "source": [
    "from pandas import Series\n",
    "\n",
    "close = [42500, 42550, 41800, 42550, 42650]\n",
    "open = [42600, 42200, 41850, 42550, 42500]\n",
    "index = ['2019-05-31', '2019-05-30', '2019-05-29', '2019-05-28', '2019-05-27']\n",
    "\n",
    "open = Series(data=open, index=index)\n",
    "close = Series(data=close, index=index)\n",
    "\n",
    "close[close > open]\n",
    "# 문제: 종가가 시가보다 높은 날을 구하세요."
   ]
  }
 ],
 "metadata": {
  "kernelspec": {
   "display_name": "Python 3 (ipykernel)",
   "language": "python",
   "name": "python3"
  },
  "language_info": {
   "codemirror_mode": {
    "name": "ipython",
    "version": 3
   },
   "file_extension": ".py",
   "mimetype": "text/x-python",
   "name": "python",
   "nbconvert_exporter": "python",
   "pygments_lexer": "ipython3",
   "version": "3.12.6"
  }
 },
 "nbformat": 4,
 "nbformat_minor": 5
}
