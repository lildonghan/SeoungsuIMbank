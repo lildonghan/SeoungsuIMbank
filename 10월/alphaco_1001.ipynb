{
 "cells": [
  {
   "cell_type": "markdown",
   "id": "b50b6300-f399-434a-922b-2132c36cc685",
   "metadata": {},
   "source": [
    "# 연습문제"
   ]
  },
  {
   "cell_type": "code",
   "execution_count": 25,
   "id": "1811db08-13f7-4dd0-9430-b4263174a348",
   "metadata": {},
   "outputs": [
    {
     "name": "stdout",
     "output_type": "stream",
     "text": [
      "<class 'pandas.core.frame.DataFrame'>\n",
      "RangeIndex: 3 entries, 0 to 2\n",
      "Data columns (total 3 columns):\n",
      " #   Column  Non-Null Count  Dtype \n",
      "---  ------  --------------  ----- \n",
      " 0   03/02   3 non-null      object\n",
      " 1   03/03   3 non-null      object\n",
      " 2   03/04   3 non-null      object\n",
      "dtypes: object(3)\n",
      "memory usage: 204.0+ bytes\n"
     ]
    }
   ],
   "source": [
    "import pandas as pd\n",
    "\n",
    "# 데이터프레임 생성\n",
    "data = [\n",
    "    [\"1,000\", \"1,100\", '1,510'],\n",
    "    [\"1,410\", \"1,420\", '1,790'],\n",
    "    [\"850\", \"900\", '1,185'],\n",
    "]\n",
    "columns = [\"03/02\", \"03/03\", \"03/04\"]\n",
    "df = pd.DataFrame(data=data, columns=columns)\n",
    "df.info()"
   ]
  },
  {
   "cell_type": "code",
   "execution_count": 13,
   "id": "4b974115-0d00-4d59-b6db-48e7d04d7a09",
   "metadata": {},
   "outputs": [
    {
     "data": {
      "text/html": [
       "<div>\n",
       "<style scoped>\n",
       "    .dataframe tbody tr th:only-of-type {\n",
       "        vertical-align: middle;\n",
       "    }\n",
       "\n",
       "    .dataframe tbody tr th {\n",
       "        vertical-align: top;\n",
       "    }\n",
       "\n",
       "    .dataframe thead th {\n",
       "        text-align: right;\n",
       "    }\n",
       "</style>\n",
       "<table border=\"1\" class=\"dataframe\">\n",
       "  <thead>\n",
       "    <tr style=\"text-align: right;\">\n",
       "      <th></th>\n",
       "      <th>ACC_YEAR</th>\n",
       "      <th>SGG_CD</th>\n",
       "      <th>SGG_NM</th>\n",
       "      <th>BJDONG_CD</th>\n",
       "      <th>BJDONG_NM</th>\n",
       "      <th>LAND_GBN</th>\n",
       "      <th>LAND_GBN_NM</th>\n",
       "      <th>BONBEON</th>\n",
       "      <th>BUBEON</th>\n",
       "      <th>BLDG_NM</th>\n",
       "      <th>...</th>\n",
       "      <th>OBJ_AMT</th>\n",
       "      <th>BLDG_AREA</th>\n",
       "      <th>TOT_AREA</th>\n",
       "      <th>FLOOR</th>\n",
       "      <th>RIGHT_GBN</th>\n",
       "      <th>CNTL_YMD</th>\n",
       "      <th>BUILD_YEAR</th>\n",
       "      <th>HOUSE_TYPE</th>\n",
       "      <th>REQ_GBN</th>\n",
       "      <th>RDEALER_LAWDNM</th>\n",
       "    </tr>\n",
       "  </thead>\n",
       "  <tbody>\n",
       "    <tr>\n",
       "      <th>0</th>\n",
       "      <td>2023</td>\n",
       "      <td>11650</td>\n",
       "      <td>서초구</td>\n",
       "      <td>10800</td>\n",
       "      <td>서초동</td>\n",
       "      <td>1.0</td>\n",
       "      <td>대지</td>\n",
       "      <td>1328.0</td>\n",
       "      <td>11.0</td>\n",
       "      <td>대우도씨에빛2</td>\n",
       "      <td>...</td>\n",
       "      <td>38500</td>\n",
       "      <td>38.81</td>\n",
       "      <td>50.85</td>\n",
       "      <td>14.0</td>\n",
       "      <td>NaN</td>\n",
       "      <td>NaN</td>\n",
       "      <td>2005.0</td>\n",
       "      <td>오피스텔</td>\n",
       "      <td>중개거래</td>\n",
       "      <td>서울 서초구</td>\n",
       "    </tr>\n",
       "  </tbody>\n",
       "</table>\n",
       "<p>1 rows × 21 columns</p>\n",
       "</div>"
      ],
      "text/plain": [
       "   ACC_YEAR  SGG_CD SGG_NM  BJDONG_CD BJDONG_NM  LAND_GBN LAND_GBN_NM  \\\n",
       "0      2023   11650    서초구      10800       서초동       1.0          대지   \n",
       "\n",
       "   BONBEON  BUBEON  BLDG_NM  ...  OBJ_AMT  BLDG_AREA  TOT_AREA  FLOOR  \\\n",
       "0   1328.0    11.0  대우도씨에빛2  ...    38500      38.81     50.85   14.0   \n",
       "\n",
       "   RIGHT_GBN CNTL_YMD  BUILD_YEAR  HOUSE_TYPE REQ_GBN RDEALER_LAWDNM  \n",
       "0        NaN      NaN      2005.0        오피스텔    중개거래         서울 서초구  \n",
       "\n",
       "[1 rows x 21 columns]"
      ]
     },
     "execution_count": 13,
     "metadata": {},
     "output_type": "execute_result"
    }
   ],
   "source": [
    "df3 = pd.read_csv(\"seoul_real_estate.csv\") # df 중복 \n",
    "df3.head(1)"
   ]
  },
  {
   "cell_type": "markdown",
   "id": "5b6d2604-1ac4-4d33-a5f6-39dcfa095836",
   "metadata": {},
   "source": [
    "# 쉼표를 제거하고 int로 변환하는 함수 정의\n",
    "\n"
   ]
  },
  {
   "cell_type": "code",
   "execution_count": 14,
   "id": "8cda2b53-3a47-4a4d-a732-04c30fd8a732",
   "metadata": {},
   "outputs": [],
   "source": [
    "# 확인용x = \"1,000\"\n",
    "# int(x.replace(\",\",\"\")) # 숫자가 됐다.\n"
   ]
  },
  {
   "cell_type": "code",
   "execution_count": 26,
   "id": "3512022a-ed46-4f4f-86dd-11c08f69311e",
   "metadata": {},
   "outputs": [],
   "source": [
    "#def rm_comma(x):\n",
    " #   return int(x.replace(\",\",\"\"))\n",
    "\n",
    "#y = \"1,000\"\n",
    "#print(rm_comma(y))"
   ]
  },
  {
   "cell_type": "code",
   "execution_count": 27,
   "id": "a1ea63be-8656-4297-afcc-401d460cb43c",
   "metadata": {},
   "outputs": [
    {
     "name": "stdout",
     "output_type": "stream",
     "text": [
      "<class 'pandas.core.frame.DataFrame'>\n",
      "RangeIndex: 3 entries, 0 to 2\n",
      "Data columns (total 3 columns):\n",
      " #   Column  Non-Null Count  Dtype \n",
      "---  ------  --------------  ----- \n",
      " 0   03/02   3 non-null      int64 \n",
      " 1   03/03   3 non-null      int64 \n",
      " 2   03/04   3 non-null      object\n",
      "dtypes: int64(2), object(1)\n",
      "memory usage: 204.0+ bytes\n"
     ]
    }
   ],
   "source": [
    "df[\"03/02\"] = df[\"03/02\"].apply(rm_comma)\n",
    "df[\"03/03\"] = df[\"03/03\"].apply(rm_comma)\n",
    "df.info()"
   ]
  },
  {
   "cell_type": "code",
   "execution_count": null,
   "id": "102f9bd6-47a6-48ca-accd-713bda0d2f5e",
   "metadata": {},
   "outputs": [],
   "source": []
  },
  {
   "cell_type": "code",
   "execution_count": 29,
   "id": "74bb13a3-f674-43e5-a91e-e1d2b826af03",
   "metadata": {},
   "outputs": [
    {
     "name": "stderr",
     "output_type": "stream",
     "text": [
      "[*********************100%***********************]  1 of 1 completed\n",
      "[*********************100%***********************]  1 of 1 completed\n",
      "[*********************100%***********************]  1 of 1 completed\n"
     ]
    },
    {
     "data": {
      "image/png": "[encoded data removed]",
      "text/plain": [
       "<Figure size 640x480 with 1 Axes>"
      ]
     },
     "metadata": {},
     "output_type": "display_data"
    }
   ],
   "source": [
    "import yfinance as yf\n",
    "import matplotlib.pyplot as plt\n",
    "apple = yf.download(\"AAPL\", start=\"2020-01-01\", end = \"2024-09-30\")\n",
    "nvidia = yf.download(\"NVDA\", start=\"2020-01-01\", end = \"2024-09-30\")\n",
    "intel = yf.download(\"INTC\", start=\"2020-01-01\", end = \"2024-09-30\")\n",
    "fig, ax = plt.subplots()\n",
    "ax.plot(apple['Open']) \n",
    "\n",
    "plt.show()"
   ]
  },
  {
   "cell_type": "code",
   "execution_count": null,
   "id": "9d2d48e5-460b-4425-a6f3-aef3f9ed81ed",
   "metadata": {},
   "outputs": [],
   "source": []
  }
 ],
 "metadata": {
  "kernelspec": {
   "display_name": "Python 3 (ipykernel)",
   "language": "python",
   "name": "python3"
  },
  "language_info": {
   "codemirror_mode": {
    "name": "ipython",
    "version": 3
   },
   "file_extension": ".py",
   "mimetype": "text/x-python",
   "name": "python",
   "nbconvert_exporter": "python",
   "pygments_lexer": "ipython3",
   "version": "3.12.6"
  }
 },
 "nbformat": 4,
 "nbformat_minor": 5
}
