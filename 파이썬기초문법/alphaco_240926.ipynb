{
 "cells": [
  {
   "cell_type": "markdown",
   "id": "fa9b2474-6dd8-45b7-a044-82b00503391f",
   "metadata": {},
   "source": [
    "## 클래스 선언 (리마인드)"
   ]
  },
  {
   "cell_type": "code",
   "execution_count": 4,
   "id": "d2b56a71-e0ee-44ce-a61d-f8b139cfa153",
   "metadata": {},
   "outputs": [],
   "source": [
    " class Bicycle():\n",
    "     pass"
   ]
  },
  {
   "cell_type": "markdown",
   "id": "2a09a8fe-cad4-4bd6-8bfd-51e82b152e1a",
   "metadata": {},
   "source": [
    "### 객체 생성"
   ]
  },
  {
   "cell_type": "code",
   "execution_count": 5,
   "id": "07a9f02e-81d8-497f-899a-1c0f84d65f79",
   "metadata": {},
   "outputs": [
    {
     "data": {
      "text/plain": [
       "<__main__.Bicycle at 0x1d330f3fce0>"
      ]
     },
     "execution_count": 5,
     "metadata": {},
     "output_type": "execute_result"
    }
   ],
   "source": [
    "my_bicycle = Bicycle()\n",
    "my_bicycle"
   ]
  },
  {
   "cell_type": "code",
   "execution_count": 7,
   "id": "35c5feaa-f175-4115-b8a2-d8410eeacbd3",
   "metadata": {},
   "outputs": [],
   "source": [
    "my_bicycle.wheel_size = 26\n",
    "my_bicycle.color = 'black'"
   ]
  },
  {
   "cell_type": "code",
   "execution_count": 8,
   "id": "2bdaacfa-2eac-416e-8962-9e7ba9329739",
   "metadata": {},
   "outputs": [
    {
     "name": "stdout",
     "output_type": "stream",
     "text": [
      "26\n"
     ]
    }
   ],
   "source": [
    "print(my_bicycle.wheel_size)"
   ]
  },
  {
   "cell_type": "code",
   "execution_count": 9,
   "id": "6a24ccfd-db0b-4120-9a9c-430d56c07754",
   "metadata": {},
   "outputs": [
    {
     "name": "stdout",
     "output_type": "stream",
     "text": [
      "책 01호\n",
      "title Streamlit author Evan pages 560 price 40000 discount 10\n",
      "책 02호\n",
      "title pandas author 성신 pages 400 price 30000 discount 20\n"
     ]
    }
   ],
   "source": [
    "class 책:\n",
    "    title = None\n",
    "    author = None\n",
    "    pages = 0\n",
    "    price = 0\n",
    "    discount = 0\n",
    "\n",
    "책01호 = 책()\n",
    "책01호.title = \"Streamlit\"\n",
    "책01호.author = \"Evan\"\n",
    "책01호.pages = 560\n",
    "책01호.price = 40000\n",
    "책01호.discount = 10\n",
    "\n",
    "print('책 01호')\n",
    "print('title', 책01호.title, 'author', 책01호.author, 'pages', 책01호.pages, 'price', 책01호.price, 'discount', 책01호.discount)\n",
    "\n",
    "책02호 = 책()\n",
    "책02호.title = \"pandas\"\n",
    "책02호.author = \"성신\"\n",
    "책02호.pages = 400\n",
    "책02호.price = 30000\n",
    "책02호.discount = 20\n",
    "\n",
    "print('책 02호')\n",
    "print('title', 책02호.title, 'author', 책02호.author, 'pages', 책02호.pages, 'price', 책02호.price, 'discount', 책02호.discount)"
   ]
  },
  {
   "cell_type": "markdown",
   "id": "a73417e2-57e9-42b0-a208-732117ec380a",
   "metadata": {},
   "source": [
    "- 위에 것은 활용도가 떨어짐\n",
    "- init 함수 활용해서 클래스가 만듬"
   ]
  },
  {
   "cell_type": "code",
   "execution_count": 12,
   "id": "f3c1a2e4-9288-4e66-8ce5-0936b1bc7c76",
   "metadata": {},
   "outputs": [
    {
     "name": "stdout",
     "output_type": "stream",
     "text": [
      "26 black\n",
      "자전거 : 시속60 킬로미터로 전진\n"
     ]
    }
   ],
   "source": [
    "class Bicycle():\n",
    "    def __init__(self, wheel_size, color):\n",
    "        self.wheel_size = wheel_size\n",
    "        self.color = color\n",
    "\n",
    "    #메서드\n",
    "    def move(self, speed):\n",
    "        print(f\"자전거 : 시속{speed} 킬로미터로 전진\")\n",
    "\n",
    "my_bicycle = Bicycle(26, 'black') # 객체 생성과 동시에 속성값을 지정.\n",
    "print(my_bicycle.wheel_size, my_bicycle.color)\n",
    "\n",
    "my_bicycle.move(60)"
   ]
  },
  {
   "cell_type": "markdown",
   "id": "cad22694-f043-4f4a-936b-5e07c1dfc835",
   "metadata": {},
   "source": [
    "## 문제 \n",
    "- Person 클래스 만드세요.\n",
    "- 속성 : 이름(name), 나이(age)\n",
    "- greet() 메서드\n"
   ]
  },
  {
   "cell_type": "code",
   "execution_count": 20,
   "id": "743312c5-62ce-4466-ad85-7050f23f89ca",
   "metadata": {},
   "outputs": [
    {
     "name": "stdout",
     "output_type": "stream",
     "text": [
      "안녕하세요 , 저는 ydh이고, 현재 26살입니다.\n"
     ]
    }
   ],
   "source": [
    "class Person:\n",
    "    def __init__(self, name, age):\n",
    "        self.name = name # 이름 속성\n",
    "        self.age = age # 나이 속성\n",
    "\n",
    "    def greet(self):\n",
    "        print(f\"안녕하세요 , 저는 {self.name}이고, 현재 {self.age}살입니다.\")\n",
    "\n",
    "ydh = Person(\"ydh\" ,26)\n",
    "ydh.greet()"
   ]
  },
  {
   "cell_type": "code",
   "execution_count": 21,
   "id": "50e5a235-6e56-4b46-bc39-c396f5fd6fe2",
   "metadata": {},
   "outputs": [
    {
     "name": "stdout",
     "output_type": "stream",
     "text": [
      "안녕하세요 , 저는 suji이고, 현재 25살입니다.\n"
     ]
    }
   ],
   "source": [
    "suji = Person(\"suji\",25)\n",
    "suji.greet()"
   ]
  },
  {
   "cell_type": "code",
   "execution_count": 24,
   "id": "441b313c-d372-4f58-a9f8-c0d02e613a04",
   "metadata": {},
   "outputs": [
    {
     "name": "stdout",
     "output_type": "stream",
     "text": [
      "안녕하세요 ,친구님 저는 수지이고, 현재 25살입니다.\n"
     ]
    }
   ],
   "source": [
    "class Person:\n",
    "    def __init__(self, name, age):\n",
    "        self.name = name # 이름 속성\n",
    "        self.age = age # 나이 속성\n",
    "\n",
    "    def greet(self, other_name):\n",
    "        print(f\"안녕하세요 ,{other_name}님 저는 {self.name}이고, 현재 {self.age}살입니다.\") #self 는 나를 지칭하는 함수 이기 떄문\n",
    "\n",
    "sujii = Person(\"수지\", 25)\n",
    "sujii.greet(other_name=\"친구\")"
   ]
  },
  {
   "cell_type": "markdown",
   "id": "824cd765-c18f-4a11-ae23-cf7596dcd276",
   "metadata": {},
   "source": [
    "# 다양한 메서드 추가"
   ]
  },
  {
   "cell_type": "code",
   "execution_count": 26,
   "id": "fab8f393-63af-4d78-9f2d-c8eb63640067",
   "metadata": {},
   "outputs": [
    {
     "name": "stdout",
     "output_type": "stream",
     "text": [
      "자전거 : 시속30 킬로미터로 전진\n",
      "26,black의 특성을 가진 자전거님 정지하세요.\n"
     ]
    }
   ],
   "source": [
    "class Bicycle():\n",
    "    def __init__(self, wheel_size, color):\n",
    "        self.wheel_size = wheel_size\n",
    "        self.color = color\n",
    "\n",
    "    #메서드\n",
    "    def move(self, speed):\n",
    "        print(f\"자전거 : 시속{speed} 킬로미터로 전진\")\n",
    "\n",
    "    def stop(self):\n",
    "        print(f\"{self.wheel_size},{self.color}의 특성을 가진 자전거님 정지하세요.\")\n",
    "\n",
    "my_bicycle = Bicycle(26, 'black')\n",
    "my_bicycle.move(30)\n",
    "my_bicycle.stop()"
   ]
  },
  {
   "cell_type": "markdown",
   "id": "f1cc09c9-33af-4fac-b1b8-78b0ce919598",
   "metadata": {},
   "source": [
    "- 클래스를 만든다고 할 떄, 클래스명 특성과 행동을 정의 하는 것이 핵심 포인트 \n",
    "- 자전거 = 자동차"
   ]
  },
  {
   "cell_type": "markdown",
   "id": "6068ee33-e15e-47fe-a98f-654e9b9953dc",
   "metadata": {},
   "source": [
    "- 시각화를 그리려고 함 (버전 1.0대) \n",
    " +  도면 클래스 : 다양한 속성과 함수들이 존재\n",
    " + 그리기도구 클래스 : 다양한 속성과 함수들이 존재\n",
    " + 막대그래프 클래스\n",
    " + 파이차트 클래스 \n",
    " + 3D 그리기 클래스\n",
    "- 3D 클래스"
   ]
  },
  {
   "cell_type": "markdown",
   "id": "d338cceb-58b9-4c9f-8663-d683c1620a9f",
   "metadata": {},
   "source": [
    "# 클래스 에서 사용하는 변수"
   ]
  },
  {
   "cell_type": "code",
   "execution_count": 30,
   "id": "8bef759c-703b-464b-9e17-d3088498b49a",
   "metadata": {},
   "outputs": [],
   "source": [
    "class Car():\n",
    "\n",
    "    # 클래스 변수\n",
    "    instance_count = 0 # 클래스 변수 생성 및 초기화\n",
    "\n",
    "    def __init__(self, size, color):\n",
    "        self.size = size # 인스턴스 변수 생성 및 초기화\n",
    "        self.color = color # 인스턴스 변수 생성 및 초기화\n",
    "        Car.instance_count = Car.instance_count + 1 # 클래스 변수 이용 하는 방법\n",
    "        print(f\"자동차 객체의 수: {Car.instance_count}\")\n",
    "        \n",
    "    # 메서드\n",
    "    def move(self):\n",
    "        print(f\"자동차 {self.size}, {self.color}가 움직입니다.\")"
   ]
  },
  {
   "cell_type": "code",
   "execution_count": 60,
   "id": "407f4baf-02a7-4097-a95b-ab0819c971de",
   "metadata": {},
   "outputs": [
    {
     "name": "stdout",
     "output_type": "stream",
     "text": [
      "자동차 객체의 수: 88\n",
      "자동차 객체의 수: 89\n",
      "자동차 객체의 수: 90\n"
     ]
    }
   ],
   "source": [
    "car1 = Car('small', 'white')\n",
    "car2 = Car('big', 'black')\n",
    "car3 = Car('medium',\"yellow\")"
   ]
  },
  {
   "cell_type": "markdown",
   "id": "64ea7514-f6b6-41ab-8d79-336dc176b992",
   "metadata": {},
   "source": [
    "## 상속의 기본형태"
   ]
  },
  {
   "cell_type": "code",
   "execution_count": 61,
   "id": "ab740b3f-5221-4391-ba6b-ffa57d68f853",
   "metadata": {},
   "outputs": [],
   "source": [
    "class 상위클래스:\n",
    "    pass \n",
    "\n",
    "class 하위클래스(상위클래스):\n",
    "    pass "
   ]
  },
  {
   "cell_type": "code",
   "execution_count": 68,
   "id": "b2b81d47-c320-41df-a67c-e560b16efe22",
   "metadata": {},
   "outputs": [],
   "source": [
    "class 동물:\n",
    "\n",
    "    name = \"\"\n",
    "\n",
    "    def 음식먹기(self):\n",
    "        print(\"저는 음식을 먹습니다\")\n",
    "        "
   ]
  },
  {
   "cell_type": "code",
   "execution_count": 69,
   "id": "7e468b2d-2c16-4e8d-8ac7-f71643c91488",
   "metadata": {},
   "outputs": [
    {
     "name": "stdout",
     "output_type": "stream",
     "text": [
      "저는 음식을 먹습니다\n"
     ]
    }
   ],
   "source": [
    "동물1 =동물()\n",
    "동물1.음식먹기()"
   ]
  },
  {
   "cell_type": "code",
   "execution_count": 71,
   "id": "eb84fa6c-2cb7-4eae-bfc8-084fbaee8578",
   "metadata": {},
   "outputs": [],
   "source": [
    "class 강아지(동물):\n",
    "\n",
    "    def 자기소개(self):\n",
    "        print(f\"내 이름은 {self.name}\")"
   ]
  },
  {
   "cell_type": "code",
   "execution_count": 73,
   "id": "eeb7e939-725d-41c3-bfda-b56aa54215d6",
   "metadata": {},
   "outputs": [
    {
     "name": "stdout",
     "output_type": "stream",
     "text": [
      "저는 음식을 먹습니다\n",
      "내 이름은 반달\n"
     ]
    }
   ],
   "source": [
    "강아지1 = 강아지()\n",
    "강아지1.name =\"반달\"\n",
    "강아지1.음식먹기()\n",
    "강아지1.자기소개()"
   ]
  },
  {
   "cell_type": "markdown",
   "id": "92ab0045-7169-4b97-8861-541325fadf99",
   "metadata": {},
   "source": [
    "## 다중상속 "
   ]
  },
  {
   "cell_type": "code",
   "execution_count": null,
   "id": "6b35e70f-0250-45a3-8d8b-5216855cd71b",
   "metadata": {},
   "outputs": [],
   "source": [
    "class 상위클래스1:\n",
    "    pass\n",
    "class 상위클래스2:\n",
    "    pass\n",
    "class 하위클래스(상위클래스1, 상위클래스2):\n",
    "    pass"
   ]
  },
  {
   "cell_type": "code",
   "execution_count": 74,
   "id": "887f02c6-6b8b-4972-927a-9b152027a0c0",
   "metadata": {},
   "outputs": [],
   "source": [
    "class 포유류:\n",
    "    def 포유류_정보(self):\n",
    "        print(\"포유류의 특징은 새끼를 낳는다\")\n",
    "\n",
    "class 날개동물:\n",
    "    def 날개동물_정보(self):\n",
    "        print(\"날개를 가진 동물은 날 수 있다\")\n",
    "\n",
    "class 박쥐(포유류 , 날개동물):\n",
    "    pass "
   ]
  },
  {
   "cell_type": "code",
   "execution_count": 75,
   "id": "0fc03dbf-da28-42bf-b8db-ea9799510130",
   "metadata": {},
   "outputs": [
    {
     "name": "stdout",
     "output_type": "stream",
     "text": [
      "포유류의 특징은 새끼를 낳는다\n"
     ]
    }
   ],
   "source": [
    "b1 = 박쥐()\n",
    "b1.포유류_정보()"
   ]
  },
  {
   "cell_type": "code",
   "execution_count": 76,
   "id": "cb5841e1-0512-4e4e-9b26-df4f60139b91",
   "metadata": {},
   "outputs": [
    {
     "name": "stdout",
     "output_type": "stream",
     "text": [
      "날개를 가진 동물은 날 수 있다\n"
     ]
    }
   ],
   "source": [
    "b1.날개동물_정보()"
   ]
  },
  {
   "cell_type": "markdown",
   "id": "a3872c30-56ee-47fb-80d4-f941a5bf295c",
   "metadata": {},
   "source": [
    "# 클래스 설계 하다 보면 부딪히는 흔한 문제\n",
    "- 메서드 명이 같을 때\n",
    "- 오버라이딩, 다형성"
   ]
  },
  {
   "cell_type": "markdown",
   "id": "1d00f0fc-3efb-416d-99e2-63ff0e4a5186",
   "metadata": {},
   "source": [
    "## 연습 문제"
   ]
  },
  {
   "cell_type": "markdown",
   "id": "fb19e656-79ef-476e-a790-def41b2b5a32",
   "metadata": {},
   "source": [
    "\"\"\"\n",
    "- Car 클래스를 만들어보겠습니다. \n",
    "- Car 클래스는 `__init__`, `get_description`, `read_kilometer`, `update_kilometer`, `increment_kilometer`라는 메서드를 갖습니다.\n",
    "    + `__init__` 메서드는 클래스의 생성자로, 객체가 생성될 때 호출됩니다.\n",
    "- 속성 사용하기\n",
    "    + `self.make`, `self.model`, `self.year`, `self.kilometer_reading` 클래스의 속성입니다.\n",
    "    + 객체가 생성될 때 속성값이 초기화됩니다.\n",
    "\n",
    "- self의 의미\n",
    "    + self는 클래스의 인스턴스를 참조합니다. 클래스 내의 메서드가 객체의 속성에 접근하거나 다른 메서드를 호출할 때 사용합니다.\n",
    "    + self를 통해 클래스 내의 속성 및 메서드를 정의하고 접근할 수 있습니다.\n",
    "\n",
    "- 클래스의 위치 인수, 키워드 인수\n",
    "    + `__init__` 메서드의 make, model, year는 위치 인수로 전달됩니다.\n",
    "    + 메서드를 호출할 때 my_car.update_kilometer(kilometers=500)처럼 키워드 인수로 사용할 수도 있습니다.\n",
    "\"\"\""
   ]
  },
  {
   "cell_type": "code",
   "execution_count": 83,
   "id": "4b50c78d-6a7d-4a8f-a9ff-9884f5b43db0",
   "metadata": {},
   "outputs": [],
   "source": [
    "class Car:\n",
    "    def __init__(self, make, model, year):\n",
    "        \n",
    "        self.make = make\n",
    "        self.model = model\n",
    "        self.year = year\n",
    "        self.kilometer_reading = 0  # 초기 주행거리는 0으로 설정\n",
    "    \n",
    "    def get_description(self):\n",
    "        \n",
    "        return f\"{self.year} {self.make} {self.model}\"\n",
    "    \n",
    "    def read_kilometer(self):\n",
    "       \n",
    "        return f\"현재 주행거리: {self.kilometer_reading} km\"\n",
    "    \n",
    "    def update_kilometer(self, kilometers):\n",
    "        \n",
    "        if kilometers >= self.kilometer_reading:\n",
    "            self.kilometer_reading = kilometers\n",
    "        else:\n",
    "            return \n",
    "    \n",
    "    def increment_kilometer(self, kilometers):\n",
    "        \n",
    "        if kilometers > 0:\n",
    "            self.kilometer_reading += kilometers\n",
    "        else:\n",
    "            return"
   ]
  },
  {
   "cell_type": "code",
   "execution_count": 85,
   "id": "ead52366-7f9b-4681-8794-9dd243633fc8",
   "metadata": {},
   "outputs": [],
   "source": [
    "my_car = Car(\"Hyundai\", \"Sonata\", 2022)"
   ]
  },
  {
   "cell_type": "code",
   "execution_count": 86,
   "id": "91cafdb9-313d-41ca-a744-277ea6214b20",
   "metadata": {},
   "outputs": [
    {
     "name": "stdout",
     "output_type": "stream",
     "text": [
      "2022 Hyundai Sonata\n"
     ]
    }
   ],
   "source": [
    "print(my_car.get_description())"
   ]
  },
  {
   "cell_type": "markdown",
   "id": "ba27682d-0e1c-4f73-8b0e-558ac7cca007",
   "metadata": {},
   "source": [
    "## 강사님 연습문제 답안"
   ]
  },
  {
   "cell_type": "code",
   "execution_count": 142,
   "id": "d6780ae4-482b-40de-9eb4-f5a9efeab411",
   "metadata": {},
   "outputs": [],
   "source": [
    "class Car:\n",
    "    # __init__ 메서드: 객체가 생성될 때 호출되며 속성을 초기화합니다.\n",
    "    def __init__(self, make, model, year):\n",
    "        self.make = make  # 자동차 제조사\n",
    "        self.model = model  # 자동차 모델\n",
    "        self.year = year  # 제조 연도\n",
    "        self.kilometer_reading = 0  # 주행 거리 (초기값 0)\n",
    "\n",
    "    # 자동차의 전체 설명을 반환하는 메서드\n",
    "    def get_description(self):\n",
    "        return f\"{self.year} {self.make} {self.model}\"\n",
    "\n",
    "    # 현재 주행 거리 출력하는 메서드\n",
    "    def read_kilometer(self):\n",
    "        print(f\"이 자동차의 현재 주행 거리는 {self.kilometer_reading} 킬로미터입니다.\")\n",
    "    \n",
    "    # 주행거리 업데이트\n",
    "    # 새로운 값이 기존 값보다 클 경우에만 업데이트\n",
    "    def update_kilometer(self, kilometers):\n",
    "        if kilometers >= self.kilometer_reading:\n",
    "            self.kilometer_reading = kilometers\n",
    "            print(f\"업데이트 확인 : {self.kilometer_reading} 킬로미터\")\n",
    "        else:\n",
    "            print(f\"현재 : {self.kilometer_reading}, 다시 입력해주세용\") \n",
    "\n",
    "    # 주행 거리를 증가시키는 메서드\n",
    "    def increment_kilometer(self, kilometers):\n",
    "        if kilometers > 0:\n",
    "            self.kilometer_reading += kilometers\n",
    "        else:\n",
    "            print(\"음수가 입력되었습니다. 양수로 입력해주세요\")"
   ]
  },
  {
   "cell_type": "markdown",
   "id": "97552fe7-e33e-4c35-97b5-6f6f0301a8f5",
   "metadata": {},
   "source": [
    "- 클래스 실행"
   ]
  },
  {
   "cell_type": "code",
   "execution_count": 124,
   "id": "c9ae5a02-7559-4ca3-b30d-c9aceef8f5cc",
   "metadata": {},
   "outputs": [
    {
     "name": "stdout",
     "output_type": "stream",
     "text": [
      "2024 현대 아반떼\n",
      "이 자동차의 현재 주행 거리는 0 킬로미터입니다.\n",
      "이 자동차의 현재 주행 거리는 100 킬로미터입니다.\n"
     ]
    }
   ],
   "source": [
    "my_car = Car(\"현대\", \"아반떼\", 2024)\n",
    "description = my_car.get_description()\n",
    "print(description)\n",
    "my_car.read_kilometer()\n",
    "my_car.increment_kilometer(100)\n",
    "my_car.read_kilometer()"
   ]
  },
  {
   "cell_type": "code",
   "execution_count": 140,
   "id": "a315a15a-b35d-4da8-a610-3c5a4a2f8e4a",
   "metadata": {},
   "outputs": [
    {
     "name": "stdout",
     "output_type": "stream",
     "text": [
      "업데이트 확인 : 3000 킬로미터\n"
     ]
    }
   ],
   "source": [
    "my_car.update_kilometer(3000)\n",
    "description = my_Car.get_description()"
   ]
  },
  {
   "cell_type": "code",
   "execution_count": 144,
   "id": "3c55396e-4ba6-49b6-8507-34cc0fa017f3",
   "metadata": {},
   "outputs": [],
   "source": [
    "class Car:\n",
    "    \"\"\"\n",
    "    자동차 객체를 나타내는 클래스. 자동차의 제조사, 모델, 연도 및 주행 거리를 추적합니다.\n",
    "    \"\"\"\n",
    "    \n",
    "    def __init__(self, make: str, model: str, year: int) -> None:\n",
    "        \"\"\"\n",
    "        객체가 생성될 때 호출되며 속성을 초기화합니다.\n",
    "\n",
    "        Args:\n",
    "            make (str): 자동차 제조사\n",
    "            model (str): 자동차 모델\n",
    "            year (int): 제조 연도\n",
    "        \"\"\"\n",
    "        self.make = make  # 자동차 제조사\n",
    "        self.model = model  # 자동차 모델\n",
    "        self.year = year  # 제조 연도\n",
    "        self.kilometer_reading = 0  # 주행 거리 (초기값 0)\n",
    "\n",
    "    def get_description(self) -> str:\n",
    "        \"\"\"\n",
    "        자동차의 전체 설명을 반환합니다.\n",
    "\n",
    "        Returns:\n",
    "            str: 제조 연도, 제조사, 모델 정보를 포함한 문자열\n",
    "        \"\"\"\n",
    "        return f\"{self.year} {self.make} {self.model}\"\n",
    "\n",
    "    def read_kilometer(self) -> None:\n",
    "        \"\"\"\n",
    "        현재 주행 거리를 출력합니다.\n",
    "        \"\"\"\n",
    "        print(f\"이 자동차의 현재 주행 거리는 {self.kilometer_reading} 킬로미터입니다.\")\n",
    "\n",
    "    def update_kilometer(self, kilometers: int) -> None:\n",
    "        \"\"\"\n",
    "        주행 거리를 새로운 값으로 업데이트합니다.\n",
    "        새로운 값이 기존 값보다 클 경우에만 업데이트됩니다.\n",
    "\n",
    "        Args:\n",
    "            kilometers (int): 업데이트하려는 주행 거리 값\n",
    "        \"\"\"\n",
    "        if kilometers >= self.kilometer_reading:\n",
    "            self.kilometer_reading = kilometers\n",
    "            print(f\"업데이트 확인 : {self.kilometer_reading} 킬로미터\")\n",
    "        else:\n",
    "            print(f\"현재 : {self.kilometer_reading}, 다시 입력해주세용\")\n",
    "\n",
    "    def increment_kilometer(self, kilometers: int) -> None:\n",
    "        \"\"\"\n",
    "        주행 거리를 일정량 증가시킵니다.\n",
    "\n",
    "        Args:\n",
    "            kilometers (int): 증가시킬 주행 거리 값. 양수여야 함.\n",
    "        \"\"\"\n",
    "        if kilometers > 0:\n",
    "            self.kilometer_reading += kilometers\n",
    "        else:\n",
    "            print(\"음수가 입력되었습니다. 양수로 입력해주세요.\")"
   ]
  },
  {
   "cell_type": "code",
   "execution_count": 145,
   "id": "52953168-edaf-4896-af63-65fe88898072",
   "metadata": {},
   "outputs": [
    {
     "name": "stdout",
     "output_type": "stream",
     "text": [
      "\n",
      "    자동차 객체를 나타내는 클래스. 자동차의 제조사, 모델, 연도 및 주행 거리를 추적합니다.\n",
      "    \n"
     ]
    }
   ],
   "source": [
    "my_car = Car(\"현대\",\"아반떼\",2024)\n",
    "print(my_car.__doc__)"
   ]
  },
  {
   "cell_type": "markdown",
   "id": "40ac0e8b-eccc-4745-bfb8-bba1eed0b58c",
   "metadata": {},
   "source": [
    "# 다형성 (Polymorphism)\n",
    "- 오버라이딩"
   ]
  },
  {
   "cell_type": "code",
   "execution_count": 146,
   "id": "bb54e45b-6a89-493d-b7e9-6d1bf9198429",
   "metadata": {},
   "outputs": [],
   "source": [
    "# 부모클래스\n",
    "class 동물:\n",
    "    def 울음소리(self):\n",
    "        return \"동물 울음소리\"\n",
    "\n",
    "#자식 클래스 \n",
    "class 강아지(동물):\n",
    "    def 울음소리(self):\n",
    "        return \"멍멍\"\n",
    "\n",
    "class 고양이(동물):\n",
    "    def 울음소리(self):\n",
    "        return \"야옹\""
   ]
  },
  {
   "cell_type": "code",
   "execution_count": 159,
   "id": "021b0552-f1be-40d0-baa3-a76bb8308fe8",
   "metadata": {},
   "outputs": [],
   "source": [
    "# 다형성 함수\n",
    "def make_sound(animal):\n",
    "    print(animal.울음소리())"
   ]
  },
  {
   "cell_type": "code",
   "execution_count": 150,
   "id": "52620467-c431-4fd7-ae61-f20c6ef6bc75",
   "metadata": {},
   "outputs": [],
   "source": [
    "#객체 생성\n",
    "dog = 강아지()\n",
    "cat = 고양이()\n",
    "# dog.울음소리()\n",
    "#cat.울음소리()"
   ]
  },
  {
   "cell_type": "code",
   "execution_count": 160,
   "id": "5ff562d4-1406-4466-9507-b2ac31b61521",
   "metadata": {},
   "outputs": [
    {
     "name": "stdout",
     "output_type": "stream",
     "text": [
      "야옹\n"
     ]
    }
   ],
   "source": [
    "make_sound(cat)"
   ]
  },
  {
   "cell_type": "markdown",
   "id": "0c3820b6-ffa9-4759-a88a-fa499efc5ea7",
   "metadata": {},
   "source": [
    "# 메서드 오버라이딩"
   ]
  },
  {
   "cell_type": "code",
   "execution_count": 164,
   "id": "1cb041c8-3e4a-4475-a6c5-565b77d47261",
   "metadata": {},
   "outputs": [],
   "source": [
    "from math import pi\n",
    "\n",
    "# 상위 클래스 (모양)\n",
    "class Shape: \n",
    "    def __init__(self, name):\n",
    "        self.name = name\n",
    "\n",
    "    def area(self):\n",
    "        pass \n",
    "\n",
    "    def fact(self):\n",
    "        return \"나는 2차원 도형\"\n",
    "\n",
    "# 사각형 하위 클래스\n",
    "class Square(Shape):\n",
    "    def __init__(self, length):\n",
    "        super().__init__(\"Square\")\n",
    "        self.length = length\n",
    "\n",
    "    def area(self):\n",
    "        return self.length ** 2\n",
    "    \n",
    "# 원 하위 클래스\n",
    "class Circle(Shape):\n",
    "    def __init__(self, radius):\n",
    "        super().__init__(\"Circle\")\n",
    "        self.radius = radius\n",
    "\n",
    "    def area(self):\n",
    "        return pi*self.radius**2"
   ]
  },
  {
   "cell_type": "code",
   "execution_count": 165,
   "id": "4ac5e585-bf52-41d3-9195-8891741206f0",
   "metadata": {},
   "outputs": [
    {
     "name": "stdout",
     "output_type": "stream",
     "text": [
      "16\n"
     ]
    }
   ],
   "source": [
    "a = Square(4)\n",
    "print(a.area())"
   ]
  },
  {
   "cell_type": "code",
   "execution_count": 166,
   "id": "136b9fa6-fd07-4206-ba1a-a4c1f55737ef",
   "metadata": {},
   "outputs": [
    {
     "name": "stdout",
     "output_type": "stream",
     "text": [
      "50.26548245743669\n"
     ]
    }
   ],
   "source": [
    "b = Circle(4)\n",
    "print(b.area())"
   ]
  },
  {
   "cell_type": "markdown",
   "id": "b7be608a-0c2e-4235-82b6-920fedb22d45",
   "metadata": {},
   "source": [
    "# 연산자 오버로딩\n",
    "- Operator Overloading"
   ]
  },
  {
   "cell_type": "code",
   "execution_count": 172,
   "id": "ae1bed4d-c9b3-40bd-8664-4ec245f80d1b",
   "metadata": {},
   "outputs": [
    {
     "name": "stdout",
     "output_type": "stream",
     "text": [
      "5\n"
     ]
    }
   ],
   "source": [
    "class A:\n",
    "    def __init__(self, value):\n",
    "        self.value = value\n",
    "\n",
    "    # 연산자 오버로딩\n",
    "    def __add__(self, other):\n",
    "        result = self.value + other.value\n",
    "        return A(result)\n",
    "\n",
    "a1 = A(2)\n",
    "a2 = A(3)\n",
    "\n",
    "a3 = a1 + a2\n",
    "print(a3.value)"
   ]
  },
  {
   "cell_type": "markdown",
   "id": "5c2af6ff-18c6-40fd-8b24-301d08759f8b",
   "metadata": {},
   "source": [
    "# 예제 2. 책 관리 시스템\n",
    "- 여러분은 간단한 책 관리 시스템을 만들어야 합니다. Book 클래스를 사용하여 책의 정보를 저장하고, 책을 읽고, 현재 페이지를 업데이트하는 프로그램을 작성하세요.\n",
    "- 여러 Book 객체를 생성하고, 각 책에 대해 다음 작업을 수행하세요.\n",
    "    + 책의 설명을 출력하세요.\n",
    "    + 책을 읽고, 현재 페이지를 업데이트하고, 책 읽기 진행 상황을 출력하세요.\n",
    "    + 읽을 페이지 수가 전체 페이지 수를 초과할 경우, 오류 메시지를 출력하세요."
   ]
  },
  {
   "cell_type": "code",
   "execution_count": 180,
   "id": "978b6567-9d4e-4656-9875-92e07b2d67e8",
   "metadata": {},
   "outputs": [],
   "source": [
    "class Book:\n",
    "    \"\"\"\n",
    "    책 관리 시스템을 위한 Book 클래스.\n",
    "    책의 제목, 저자, 총 페이지 수, 현재 페이지 정보를 관리합니다.\n",
    "    \"\"\"\n",
    "\n",
    "    def __init__(self, title: str, author: str, total_pages: int):\n",
    "        \"\"\"\n",
    "        Book 클래스 생성자. 책의 기본 정보를 초기화합니다.\n",
    "\n",
    "        Args:\n",
    "            title (str): 책의 제목.\n",
    "            author (str): 책의 저자.\n",
    "            total_pages (int): 책의 총 페이지 수.\n",
    "        \"\"\"\n",
    "        self.title = title          # 책 제목\n",
    "        self.author = author        # 책 저자\n",
    "        self.total_pages = total_pages  # 총 페이지 수\n",
    "        self.current_page = 0       # 현재 페이지, 처음은 0으로 설정\n",
    "\n",
    "    def get_description(self) -> str:\n",
    "        \"\"\"\n",
    "        책의 정보를 설명하는 메서드.\n",
    "\n",
    "        Returns:\n",
    "            str: 책의 제목, 저자, 총 페이지 수를 포함한 설명.\n",
    "        \"\"\"\n",
    "        return f\"'{self.title}' by {self.author}, {self.total_pages} pages\"\n",
    "\n",
    "    def read_book(self, pages: int) -> None:\n",
    "        \"\"\"\n",
    "        책을 읽고 현재 페이지를 업데이트하는 메서드.\n",
    "        주어진 페이지 수만큼 읽습니다.\n",
    "\n",
    "        Args:\n",
    "            pages (int): 읽을 페이지 수.\n",
    "\n",
    "        Raises:\n",
    "            ValueError: 읽은 페이지가 책의 총 페이지 수를 초과하는 경우 오류를 발생시킵니다.\n",
    "        \"\"\"\n",
    "        if self.current_page + pages <= self.total_pages:\n",
    "            self.current_page += pages\n",
    "            print(f\"현재 페이지: {self.current_page}/{self.total_pages} pages\")\n",
    "        else:\n",
    "            raise ValueError(\"읽을 페이지 수가 전체 페이지 수를 초과했습니다.\")\n",
    "\n",
    "    def reading_progress(self) -> str:\n",
    "        \"\"\"\n",
    "        책 읽기 진행 상황을 설명하는 메서드.\n",
    "\n",
    "        Returns:\n",
    "            str: 현재까지 읽은 페이지와 전체 페이지 수의 비율을 반환.\n",
    "        \"\"\"\n",
    "        progress = (self.current_page / self.total_pages) * 100\n",
    "        return f\"읽기 진행 상황: {progress:.2f}% 완료\""
   ]
  },
  {
   "cell_type": "code",
   "execution_count": 179,
   "id": "1dbd0b09-6c23-4faa-bb69-1d736f38775b",
   "metadata": {},
   "outputs": [
    {
     "name": "stdout",
     "output_type": "stream",
     "text": [
      "'1984' by George Orwell, 328 pages\n",
      "'The Catcher in the Rye' by J.D. Salinger, 277 pages\n",
      "현재 페이지: 100/328 pages\n",
      "읽기 진행 상황: 30.49% 완료\n",
      "현재 페이지: 50/277 pages\n",
      "읽기 진행 상황: 18.05% 완료\n",
      "읽을 페이지 수가 전체 페이지 수를 초과했습니다.\n"
     ]
    }
   ],
   "source": [
    "book1 = Book(\"1984\", \"George Orwell\", 328)\n",
    "book2 = Book(\"The Catcher in the Rye\", \"J.D. Salinger\", 277)\n",
    "\n",
    "# 책 설명 출력\n",
    "print(book1.get_description())  # '1984' by George Orwell, 328 pages\n",
    "print(book2.get_description())  # 'The Catcher in the Rye' by J.D. Salinger, 277 pages\n",
    "\n",
    "# 책 읽기 진행 및 페이지 업데이트\n",
    "try:\n",
    "    book1.read_book(100)  # 100페이지 읽기\n",
    "    print(book1.reading_progress())  # 읽기 진행 상황 출력\n",
    "\n",
    "    book2.read_book(50)  # 50페이지 읽기\n",
    "    print(book2.reading_progress())  # 읽기 진행 상황 출력\n",
    "\n",
    "    book1.read_book(250)  # 250페이지 읽기 (초과하는 경우)\n",
    "except ValueError as e:\n",
    "    print(e)  # 오류 메시지 출력"
   ]
  },
  {
   "cell_type": "markdown",
   "id": "785d47be-66a7-4854-8166-c1534d205bd6",
   "metadata": {},
   "source": [
    "## 강사님의 코딩"
   ]
  },
  {
   "cell_type": "code",
   "execution_count": 188,
   "id": "8ac32cea-3529-40bd-904a-7f3e077545cb",
   "metadata": {},
   "outputs": [
    {
     "data": {
      "text/plain": [
       "\"'A' (저자: evan, 총 300페이지)\""
      ]
     },
     "execution_count": 188,
     "metadata": {},
     "output_type": "execute_result"
    }
   ],
   "source": [
    "class Book:\n",
    "    def __init__(self, title, author, pages):\n",
    "        self.title = title\n",
    "        self.author = author\n",
    "        self.pages = pages\n",
    "        self.current_page = 0\n",
    "\n",
    "    def get_description(self):\n",
    "        return f\"'{self.title}' (저자: {self.author}, 총 {self.pages}페이지)\"\n",
    "        \n",
    "    def read(self, pages):\n",
    "        if self.current_page + pages <= self.pages:\n",
    "            self.current_page += pages\n",
    "            print(f\"{pages}페이지를 읽었습니다. 현재 {self.current_page}페이지에 있습니다.\")\n",
    "        else:\n",
    "            print(f\"책의 총 페이지 수를 초과할 수 없습니다!\")\n",
    "\n",
    "    def book_progress(self):\n",
    "        print(f\"이 책은 총 {self.pages}페이지이며, 현재 {self.current_page}페이지를 읽었습니다.\")\n",
    "\n",
    "book1 = Book('A', 'evan', 300)\n",
    "book1.get_description()"
   ]
  },
  {
   "cell_type": "code",
   "execution_count": 189,
   "id": "407004b3-435e-4b19-9b13-6cd8caee0192",
   "metadata": {},
   "outputs": [],
   "source": [
    "# 여러 책 인스턴스 생성\n",
    "book1 = Book('오만과 편견', '제인 오스틴', 279)\n",
    "book2 = Book('앵무새 죽이기', '하퍼 리', 281)\n",
    "book3 = Book('위대한 개츠비', 'F. 스콧 피츠제럴드', 180)"
   ]
  },
  {
   "cell_type": "code",
   "execution_count": 190,
   "id": "f4da27a1-492b-446e-8998-aa845d5bd1c5",
   "metadata": {},
   "outputs": [
    {
     "name": "stdout",
     "output_type": "stream",
     "text": [
      "'오만과 편견' (저자: 제인 오스틴, 총 279페이지)\n",
      "'앵무새 죽이기' (저자: 하퍼 리, 총 281페이지)\n",
      "'위대한 개츠비' (저자: F. 스콧 피츠제럴드, 총 180페이지)\n",
      "50페이지를 읽었습니다. 현재 50페이지에 있습니다.\n",
      "이 책은 총 279페이지이며, 현재 50페이지를 읽었습니다.\n",
      "30페이지를 읽었습니다. 현재 30페이지에 있습니다.\n",
      "이 책은 총 281페이지이며, 현재 30페이지를 읽었습니다.\n",
      "100페이지를 읽었습니다. 현재 100페이지에 있습니다.\n",
      "이 책은 총 180페이지이며, 현재 100페이지를 읽었습니다.\n",
      "책의 총 페이지 수를 초과할 수 없습니다!\n",
      "이 책은 총 279페이지이며, 현재 50페이지를 읽었습니다.\n"
     ]
    }
   ],
   "source": [
    "# 책 정보 출력\n",
    "print(book1.get_description())\n",
    "print(book2.get_description())\n",
    "print(book3.get_description())\n",
    "\n",
    "# 책 읽기\n",
    "book1.read(50)\n",
    "book1.book_progress()\n",
    "\n",
    "book2.read(30)\n",
    "book2.book_progress()\n",
    "\n",
    "book3.read(100)\n",
    "book3.book_progress()\n",
    "\n",
    "# 페이지 초과 시도\n",
    "book1.read(250)\n",
    "book1.book_progress()"
   ]
  },
  {
   "cell_type": "markdown",
   "id": "b1b27403-e0cd-4d6e-83d1-79aa68038e43",
   "metadata": {},
   "source": [
    "## 요구사항\n",
    "- `Spaceship` 클래스를 정의하세요.\n",
    "- 속성\n",
    "    + `color (str):` 우주선의 색상\n",
    "    + `speed (int):` 우주선의 속도\n",
    "    + `passengers (int):` 우주선의 탑승 인원 수\n",
    "- 메서드\n",
    "    + `__init__(self, color: str, speed: int, passengers: int):` 색상, 속도, 탑승 인원 수를 초기화합니다.\n",
    "    + `get_color(self) -> str:` 색상을 반환합니다.\n",
    "    + `set_color(self, color: str):` 색상을 설정합니다.\n",
    "    + `get_speed(self) -> int:` 속도를 반환합니다.\n",
    "    + `set_speed(self, speed: int):` 속도를 설정합니다.\n",
    "    + `get_passengers(self) -> int:` 탑승 인원 수를 반환합니다.\n",
    "    + `set_passengers(self, passengers: int):` 탑승 인원 수를 설정합니다.\n",
    "    + `add_passenger(self):` 탑승 인원 수를 N명 추가합니다.\n",
    "    + `remove_passenger(self):` 탑승 인원 수를 N명 감소시킵니다. 탑승 인원 수가 0명 이하로 내려갈 수 없습니다.\n",
    "    + `increase_speed(self, amount: int):` 속도를 amount만큼 증가시킵니다.\n",
    "    + `decrease_speed(self, amount: int):` 속도를 amount만큼 감소시킵니다. 속도가 0 이하로 내려갈 수 없습니다.\n",
    "    + `get_info(self) -> str:` 현재 우주선의 상태 정보를 반환합니다.\n",
    "\n",
    "## 시뮬레이션 테스트\n",
    "- 시뮬레이션 프로그램을 작성하세요.\n",
    "    + 사용자는 다음 작업을 선택할 수 있습니다:\n",
    "    + 우주선의 색상을 설정합니다.\n",
    "    + 속도를 증가시킵니다.\n",
    "    + 속도를 감소시킵니다.\n",
    "    + 탑승 인원 수를 N명 추가합니다.\n",
    "    + 탑승 인원 수를 N명 감소합니다.\n",
    "    + 시뮬레이션을 종료합니다.\n",
    "    \n",
    "\"\"\""
   ]
  },
  {
   "cell_type": "code",
   "execution_count": 191,
   "id": "634660c9-9e7b-4d22-a55d-d7fe232c6cbb",
   "metadata": {},
   "outputs": [
    {
     "name": "stdout",
     "output_type": "stream",
     "text": [
      "\n",
      "우주선 관리 시스템:\n",
      "1. 색상 설정\n",
      "2. 속도 증가\n",
      "3. 속도 감소\n",
      "4. 탑승 인원 추가\n",
      "5. 탑승 인원 감소\n",
      "6. 우주선 상태 확인\n",
      "7. 시뮬레이션 종료\n"
     ]
    },
    {
     "name": "stdin",
     "output_type": "stream",
     "text": [
      "원하는 작업을 선택하세요:  1\n",
      "새로운 색상을 입력하세요:  red\n"
     ]
    },
    {
     "name": "stdout",
     "output_type": "stream",
     "text": [
      "색상이 red로 변경되었습니다.\n",
      "\n",
      "우주선 관리 시스템:\n",
      "1. 색상 설정\n",
      "2. 속도 증가\n",
      "3. 속도 감소\n",
      "4. 탑승 인원 추가\n",
      "5. 탑승 인원 감소\n",
      "6. 우주선 상태 확인\n",
      "7. 시뮬레이션 종료\n"
     ]
    },
    {
     "name": "stdin",
     "output_type": "stream",
     "text": [
      "원하는 작업을 선택하세요:  2\n",
      "얼마나 속도를 증가시키겠습니까? (km/h):  100\n"
     ]
    },
    {
     "name": "stdout",
     "output_type": "stream",
     "text": [
      "속도가 100km/h로 증가했습니다.\n",
      "\n",
      "우주선 관리 시스템:\n",
      "1. 색상 설정\n",
      "2. 속도 증가\n",
      "3. 속도 감소\n",
      "4. 탑승 인원 추가\n",
      "5. 탑승 인원 감소\n",
      "6. 우주선 상태 확인\n",
      "7. 시뮬레이션 종료\n"
     ]
    },
    {
     "name": "stdin",
     "output_type": "stream",
     "text": [
      "원하는 작업을 선택하세요:  5\n",
      "감소할 탑승 인원 수를 입력하세요:  10\n"
     ]
    },
    {
     "name": "stdout",
     "output_type": "stream",
     "text": [
      "탑승 인원 수는 0명 이하로 내려갈 수 없습니다.\n",
      "탑승 인원이 0명으로 감소했습니다.\n",
      "\n",
      "우주선 관리 시스템:\n",
      "1. 색상 설정\n",
      "2. 속도 증가\n",
      "3. 속도 감소\n",
      "4. 탑승 인원 추가\n",
      "5. 탑승 인원 감소\n",
      "6. 우주선 상태 확인\n",
      "7. 시뮬레이션 종료\n"
     ]
    },
    {
     "name": "stdin",
     "output_type": "stream",
     "text": [
      "원하는 작업을 선택하세요:  6\n"
     ]
    },
    {
     "name": "stdout",
     "output_type": "stream",
     "text": [
      "우주선 색상: red, 속도: 100km/h, 탑승 인원: 0명\n",
      "\n",
      "우주선 관리 시스템:\n",
      "1. 색상 설정\n",
      "2. 속도 증가\n",
      "3. 속도 감소\n",
      "4. 탑승 인원 추가\n",
      "5. 탑승 인원 감소\n",
      "6. 우주선 상태 확인\n",
      "7. 시뮬레이션 종료\n"
     ]
    },
    {
     "name": "stdin",
     "output_type": "stream",
     "text": [
      "원하는 작업을 선택하세요:  4\n",
      "추가할 탑승 인원 수를 입력하세요:  11\n"
     ]
    },
    {
     "name": "stdout",
     "output_type": "stream",
     "text": [
      "탑승 인원이 11명으로 증가했습니다.\n",
      "\n",
      "우주선 관리 시스템:\n",
      "1. 색상 설정\n",
      "2. 속도 증가\n",
      "3. 속도 감소\n",
      "4. 탑승 인원 추가\n",
      "5. 탑승 인원 감소\n",
      "6. 우주선 상태 확인\n",
      "7. 시뮬레이션 종료\n"
     ]
    },
    {
     "name": "stdin",
     "output_type": "stream",
     "text": [
      "원하는 작업을 선택하세요:  3\n",
      "얼마나 속도를 감소시키겠습니까? (km/h):  40\n"
     ]
    },
    {
     "name": "stdout",
     "output_type": "stream",
     "text": [
      "속도가 60km/h로 감소했습니다.\n",
      "\n",
      "우주선 관리 시스템:\n",
      "1. 색상 설정\n",
      "2. 속도 증가\n",
      "3. 속도 감소\n",
      "4. 탑승 인원 추가\n",
      "5. 탑승 인원 감소\n",
      "6. 우주선 상태 확인\n",
      "7. 시뮬레이션 종료\n"
     ]
    },
    {
     "name": "stdin",
     "output_type": "stream",
     "text": [
      "원하는 작업을 선택하세요:  6\n"
     ]
    },
    {
     "name": "stdout",
     "output_type": "stream",
     "text": [
      "우주선 색상: red, 속도: 60km/h, 탑승 인원: 11명\n",
      "\n",
      "우주선 관리 시스템:\n",
      "1. 색상 설정\n",
      "2. 속도 증가\n",
      "3. 속도 감소\n",
      "4. 탑승 인원 추가\n",
      "5. 탑승 인원 감소\n",
      "6. 우주선 상태 확인\n",
      "7. 시뮬레이션 종료\n"
     ]
    },
    {
     "name": "stdin",
     "output_type": "stream",
     "text": [
      "원하는 작업을 선택하세요:  7\n"
     ]
    },
    {
     "name": "stdout",
     "output_type": "stream",
     "text": [
      "시뮬레이션을 종료합니다.\n"
     ]
    }
   ],
   "source": [
    "class Spaceship:\n",
    "    \"\"\"\n",
    "    우주선 클래스를 정의하여 색상, 속도, 탑승 인원 수를 관리합니다.\n",
    "    \"\"\"\n",
    "\n",
    "    def __init__(self, color: str, speed: int, passengers: int):\n",
    "        \"\"\"\n",
    "        Spaceship 클래스 생성자. 우주선의 색상, 속도, 탑승 인원을 초기화합니다.\n",
    "\n",
    "        Args:\n",
    "            color (str): 우주선의 색상.\n",
    "            speed (int): 우주선의 초기 속도.\n",
    "            passengers (int): 우주선의 탑승 인원 수.\n",
    "        \"\"\"\n",
    "        self.color = color\n",
    "        self.speed = speed\n",
    "        self.passengers = passengers\n",
    "\n",
    "    def get_color(self) -> str:\n",
    "        \"\"\"우주선의 색상을 반환합니다.\"\"\"\n",
    "        return self.color\n",
    "\n",
    "    def set_color(self, color: str):\n",
    "        \"\"\"우주선의 색상을 설정합니다.\"\"\"\n",
    "        self.color = color\n",
    "\n",
    "    def get_speed(self) -> int:\n",
    "        \"\"\"우주선의 속도를 반환합니다.\"\"\"\n",
    "        return self.speed\n",
    "\n",
    "    def set_speed(self, speed: int):\n",
    "        \"\"\"우주선의 속도를 설정합니다.\"\"\"\n",
    "        self.speed = speed\n",
    "\n",
    "    def get_passengers(self) -> int:\n",
    "        \"\"\"우주선의 탑승 인원 수를 반환합니다.\"\"\"\n",
    "        return self.passengers\n",
    "\n",
    "    def set_passengers(self, passengers: int):\n",
    "        \"\"\"우주선의 탑승 인원 수를 설정합니다.\"\"\"\n",
    "        self.passengers = passengers\n",
    "\n",
    "    def add_passenger(self, n: int):\n",
    "        \"\"\"우주선의 탑승 인원 수를 N명 추가합니다.\"\"\"\n",
    "        self.passengers += n\n",
    "\n",
    "    def remove_passenger(self, n: int):\n",
    "        \"\"\"우주선의 탑승 인원 수를 N명 감소시킵니다. 0명 이하로 내려갈 수 없습니다.\"\"\"\n",
    "        if self.passengers - n >= 0:\n",
    "            self.passengers -= n\n",
    "        else:\n",
    "            print(\"탑승 인원 수는 0명 이하로 내려갈 수 없습니다.\")\n",
    "\n",
    "    def increase_speed(self, amount: int):\n",
    "        \"\"\"속도를 amount만큼 증가시킵니다.\"\"\"\n",
    "        self.speed += amount\n",
    "\n",
    "    def decrease_speed(self, amount: int):\n",
    "        \"\"\"속도를 amount만큼 감소시킵니다. 속도가 0 이하로 내려갈 수 없습니다.\"\"\"\n",
    "        if self.speed - amount >= 0:\n",
    "            self.speed -= amount\n",
    "        else:\n",
    "            print(\"속도는 0 이하로 내려갈 수 없습니다.\")\n",
    "\n",
    "    def get_info(self) -> str:\n",
    "        \"\"\"우주선의 현재 상태 정보를 반환합니다.\"\"\"\n",
    "        return f\"우주선 색상: {self.color}, 속도: {self.speed}km/h, 탑승 인원: {self.passengers}명\"\n",
    "\n",
    "# 시뮬레이션 테스트\n",
    "def spaceship_simulation():\n",
    "    # 우주선 초기화\n",
    "    spaceship = Spaceship(\"White\", 0, 0)\n",
    "    \n",
    "    while True:\n",
    "        print(\"\\n우주선 관리 시스템:\")\n",
    "        print(\"1. 색상 설정\")\n",
    "        print(\"2. 속도 증가\")\n",
    "        print(\"3. 속도 감소\")\n",
    "        print(\"4. 탑승 인원 추가\")\n",
    "        print(\"5. 탑승 인원 감소\")\n",
    "        print(\"6. 우주선 상태 확인\")\n",
    "        print(\"7. 시뮬레이션 종료\")\n",
    "        \n",
    "        choice = input(\"원하는 작업을 선택하세요: \")\n",
    "\n",
    "        if choice == \"1\":\n",
    "            color = input(\"새로운 색상을 입력하세요: \")\n",
    "            spaceship.set_color(color)\n",
    "            print(f\"색상이 {spaceship.get_color()}로 변경되었습니다.\")\n",
    "        \n",
    "        elif choice == \"2\":\n",
    "            amount = int(input(\"얼마나 속도를 증가시키겠습니까? (km/h): \"))\n",
    "            spaceship.increase_speed(amount)\n",
    "            print(f\"속도가 {spaceship.get_speed()}km/h로 증가했습니다.\")\n",
    "        \n",
    "        elif choice == \"3\":\n",
    "            amount = int(input(\"얼마나 속도를 감소시키겠습니까? (km/h): \"))\n",
    "            spaceship.decrease_speed(amount)\n",
    "            print(f\"속도가 {spaceship.get_speed()}km/h로 감소했습니다.\")\n",
    "        \n",
    "        elif choice == \"4\":\n",
    "            n = int(input(\"추가할 탑승 인원 수를 입력하세요: \"))\n",
    "            spaceship.add_passenger(n)\n",
    "            print(f\"탑승 인원이 {spaceship.get_passengers()}명으로 증가했습니다.\")\n",
    "        \n",
    "        elif choice == \"5\":\n",
    "            n = int(input(\"감소할 탑승 인원 수를 입력하세요: \"))\n",
    "            spaceship.remove_passenger(n)\n",
    "            print(f\"탑승 인원이 {spaceship.get_passengers()}명으로 감소했습니다.\")\n",
    "        \n",
    "        elif choice == \"6\":\n",
    "            print(spaceship.get_info())\n",
    "        \n",
    "        elif choice == \"7\":\n",
    "            print(\"시뮬레이션을 종료합니다.\")\n",
    "            break\n",
    "        \n",
    "        else:\n",
    "            print(\"잘못된 입력입니다. 다시 시도하세요.\")\n",
    "\n",
    "# 시뮬레이션 실행\n",
    "spaceship_simulation()\n"
   ]
  },
  {
   "cell_type": "markdown",
   "id": "ff2c25c2-508e-4b7e-9031-773cd722ac23",
   "metadata": {},
   "source": [
    "## 리마인드 "
   ]
  },
  {
   "cell_type": "code",
   "execution_count": null,
   "id": "21882f14-f058-4036-abe5-c40d8761383e",
   "metadata": {},
   "outputs": [],
   "source": [
    "class Spaceship:\n",
    "\n",
    "    def __init__(self, color: str, speed: int, passengers: int):\n",
    "\n",
    "        self.color = color\n",
    "        self.speed = speed\n",
    "        self.passengers = passengers\n",
    "\n",
    "    def get_color(self) -> str:\n",
    "\n",
    "        return self.color\n",
    "\n",
    "    def set_color(self, color: str):\n",
    "\n",
    "        self.color = color\n",
    "\n",
    "    def get_speed(self, speed: int):\n",
    "\n",
    "        self.speed = speed\n",
    "\n",
    "    def get_passengers(self) -> int:\n",
    "\n",
    "        return self.passengers\n",
    "\n",
    "    def set_passengers(self, passengers: int):\n",
    "\n",
    "        self.passengers = passengers\n",
    "\n",
    "    def add_passenger(self, n: int):\n",
    "\n",
    "        self.passengers += n\n",
    "\n",
    "    def remove_passenger(self, n: int):\n",
    "        if self.passengers - n >= 0:\n",
    "            self.passengers -= n\n",
    "        else:\n",
    "            print(\"탑승 인원 수는 0명 이하로 내려갈수 없습니다.\")\n",
    "\n",
    "    def increase_speed(self, amount: int):\n",
    "        self.speed += amount\n",
    "\n",
    "    def decrease_speed(self, amount: int):\n",
    "        if self.speed - amount >= 0:\n",
    "            self.speed -= amout\n",
    "        else:\n",
    "            print(\"속도는 0 이하로 내려갈 수 없습니다.\")\n",
    "\n",
    "    def get_info(self) -> str:\n",
    "        return f\"우주선 색상: {self.color}, 속도: {self.speed}km/h, 탑승 인원: {self.passengers}명\"\n",
    "        "
   ]
  },
  {
   "cell_type": "code",
   "execution_count": null,
   "id": "92f8ecca-b38e-45d6-b330-2cc70478d675",
   "metadata": {},
   "outputs": [],
   "source": [
    "\"\"\"\n",
    "## 요구사항\n",
    "- `Spaceship` 클래스를 정의하세요.\n",
    "- 속성\n",
    "    + `color (str):` 우주선의 색상\n",
    "    + `speed (int):` 우주선의 속도\n",
    "    + `passengers (int):` 우주선의 탑승 인원 수\n",
    "- 메서드\n",
    "    + `__init__(self, color: str, speed: int, passengers: int):` 색상, 속도, 탑승 인원 수를 초기화합니다.\n",
    "    + `get_color(self) -> str:` 색상을 반환합니다.\n",
    "    + `set_color(self, color: str):` 색상을 설정합니다.\n",
    "    + `get_speed(self) -> int:` 속도를 반환합니다.\n",
    "    + `set_speed(self, speed: int):` 속도를 설정합니다.\n",
    "    + `get_passengers(self) -> int:` 탑승 인원 수를 반환합니다.\n",
    "    + `set_passengers(self, passengers: int):` 탑승 인원 수를 설정합니다.\n",
    "    + `add_passenger(self):` 탑승 인원 수를 N명 추가합니다.\n",
    "    + `remove_passenger(self):` 탑승 인원 수를 N명 감소시킵니다. 탑승 인원 수가 0명 이하로 내려갈 수 없습니다.\n",
    "    + `increase_speed(self, amount: int):` 속도를 amount만큼 증가시킵니다.\n",
    "    + `decrease_speed(self, amount: int):` 속도를 amount만큼 감소시킵니다. 속도가 0 이하로 내려갈 수 없습니다.\n",
    "    + `get_info(self) -> str:` 현재 우주선의 상태 정보를 반환합니다.\n",
    "\n",
    "## 시뮬레이션 테스트\n",
    "- 시뮬레이션 프로그램을 작성하세요.\n",
    "    + 사용자는 다음 작업을 선택할 수 있습니다:\n",
    "    + 우주선의 색상을 설정합니다.\n",
    "    + 속도를 증가시킵니다.\n",
    "    + 속도를 감소시킵니다.\n",
    "    + 탑승 인원 수를 N명 추가합니다.\n",
    "    + 탑승 인원 수를 N명 감소합니다.\n",
    "    + 시뮬레이션을 종료합니다.\n",
    "    \n",
    "\"\"\"\n",
    "\n",
    "class Spaceship:\n",
    "    def __init__(self, color: str, speed: int, passengers: int):\n",
    "        self._color = color\n",
    "        self._speed = speed\n",
    "        self._passengers = passengers\n",
    "\n",
    "    # Color getter and setter\n",
    "    def get_color(self) -> str:\n",
    "        return self._color\n",
    "\n",
    "    def set_color(self, color: str):\n",
    "        self._color = color\n",
    "\n",
    "    # Speed getter and setter\n",
    "    def get_speed(self) -> int:\n",
    "        return self._speed\n",
    "\n",
    "    def set_speed(self, speed: int):\n",
    "        self._speed = speed\n",
    "\n",
    "    # Passengers getter and setter\n",
    "    def get_passengers(self) -> int:\n",
    "        return self._passengers\n",
    "\n",
    "    def set_passengers(self, passengers: int):\n",
    "        self._passengers = passengers\n",
    "\n",
    "    def add_passenger(self, number: int):\n",
    "        self._passengers += number\n",
    "        print(f\"{number}명의 탑승자가 추가되었습니다. 현재 탑승인원: {self._passengers}\")\n",
    "\n",
    "    def remove_passenger(self, number: int):\n",
    "        if self._passengers >= number:\n",
    "            self._passengers -= number\n",
    "            print(f\"{number}명의 탑승자가 하차했습니다. 현재 탑승인원: {self._passengers}\")\n",
    "        else:\n",
    "            print(\"하차할 탑승객 수가 현재 탑승인원보다 많습니다\")\n",
    "\n",
    "    def increase_speed(self, amount: int):\n",
    "        self._speed += amount\n",
    "        print(f\"속도가 {amount}만큼 증가했습니다. 새로운 속도: {self._speed}\")\n",
    "\n",
    "    def decrease_speed(self, amount: int):\n",
    "        if self._speed - amount >= 0:\n",
    "            self._speed -= amount\n",
    "            print(f\"속도가 {amount}만큼 감소했습니다. 새로운 속도: {self._speed}\")\n",
    "        else:\n",
    "            print(\"속도는 음수가 될 수 없습니다\")\n",
    "\n",
    "    def get_info(self) -> str:\n",
    "        return f\"우주선 색상: {self._color}, 속도: {self._speed}, 탑승인원: {self._passengers}\"\n",
    "\n",
    "def simulate_spaceship():\n",
    "    spaceship = Spaceship(\"Red\", 10000, 5)\n",
    "    \n",
    "    while True:\n",
    "        print(\"\\n현재 우주선 상태:\")\n",
    "        print(spaceship.get_info())\n",
    "        \n",
    "        print(\"\\n무엇을 하시겠습니까?\")\n",
    "        print(\"1. 색상 설정\")\n",
    "        print(\"2. 속도 증가\")\n",
    "        print(\"3. 속도 감소\")\n",
    "        print(\"4. 탑승인원 추가\")\n",
    "        print(\"5. 탑승인원 하차\")\n",
    "        print(\"6. 시뮬레이션 종료\")\n",
    "        \n",
    "        choice = input(\"선택을 입력하세요 (1-6): \")\n",
    "\n",
    "        if choice == '1':\n",
    "            color = input(\"새 색상을 입력하세요: \")\n",
    "            spaceship.set_color(color)\n",
    "            print(f\"색상이 {color}(으)로 변경되었습니다\")\n",
    "        \n",
    "        elif choice == '2':\n",
    "            amount = int(input(\"속도를 얼마나 증가시키겠습니까?: \"))\n",
    "            spaceship.increase_speed(amount)\n",
    "        \n",
    "        elif choice == '3':\n",
    "            amount = int(input(\"속도를 얼마나 감소시키겠습니까?: \"))\n",
    "            spaceship.decrease_speed(amount)\n",
    "        \n",
    "        elif choice == '4':\n",
    "            number = int(input(\"추가할 탑승인원 수를 입력하세요: \"))\n",
    "            spaceship.add_passenger(number)\n",
    "        \n",
    "        elif choice == '5':\n",
    "            number = int(input(\"하차할 탑승인원 수를 입력하세요: \"))\n",
    "            spaceship.remove_passenger(number)\n",
    "        \n",
    "        elif choice == '6':\n",
    "            print(\"시뮬레이션을 종료합니다.\")\n",
    "            break\n",
    "        \n",
    "        else:\n",
    "            print(\"잘못된 선택입니다. 1에서 6 사이의 숫자를 입력하세요.\")\n",
    "\n",
    "# 시뮬레이션 실행\n",
    "simulate_spaceship()"
   ]
  }
 ],
 "metadata": {
  "kernelspec": {
   "display_name": "Python 3 (ipykernel)",
   "language": "python",
   "name": "python3"
  },
  "language_info": {
   "codemirror_mode": {
    "name": "ipython",
    "version": 3
   },
   "file_extension": ".py",
   "mimetype": "text/x-python",
   "name": "python",
   "nbconvert_exporter": "python",
   "pygments_lexer": "ipython3",
   "version": "3.12.6"
  }
 },
 "nbformat": 4,
 "nbformat_minor": 5
}
