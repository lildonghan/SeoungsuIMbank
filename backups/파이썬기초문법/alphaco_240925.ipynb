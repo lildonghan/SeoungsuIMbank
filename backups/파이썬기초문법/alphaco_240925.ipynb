{
 "cells": [
  {
   "cell_type": "markdown",
   "id": "8c23fe3b-eea7-4ca7-ad1f-d77bfabf5635",
   "metadata": {},
   "source": [
    "# 제어문 & 반복문"
   ]
  },
  {
   "cell_type": "markdown",
   "id": "f8c6ad4d-6a2b-4c71-9839-01c12716fd1d",
   "metadata": {},
   "source": [
    "## 단일조건에 따른 분기"
   ]
  },
  {
   "cell_type": "code",
   "execution_count": 5,
   "id": "d857a72f-c1e1-4a97-9815-debf4ed05fed",
   "metadata": {},
   "outputs": [
    {
     "name": "stdin",
     "output_type": "stream",
     "text": [
      "숫자를 입력하세요.. 95\n"
     ]
    },
    {
     "name": "stdout",
     "output_type": "stream",
     "text": [
      "pass\n"
     ]
    }
   ],
   "source": [
    "x = int(input(\"숫자를 입력하세요..\"))\n",
    "if x >=90:\n",
    "    print(\"pass\")"
   ]
  },
  {
   "cell_type": "markdown",
   "id": "2953d27f-c1a1-40cc-ac0c-de70608aff25",
   "metadata": {},
   "source": [
    "## 단일 조건및 그외 조건에 따른 분기"
   ]
  },
  {
   "cell_type": "code",
   "execution_count": 6,
   "id": "6ed443d6-5529-40ff-b216-bdf4600cd9d3",
   "metadata": {},
   "outputs": [
    {
     "name": "stdin",
     "output_type": "stream",
     "text": [
      "숫자를 입력하세요.. 50\n"
     ]
    },
    {
     "name": "stdout",
     "output_type": "stream",
     "text": [
      "fail\n"
     ]
    }
   ],
   "source": [
    "x = int(input(\"숫자를 입력하세요..\"))\n",
    "if x >=90:\n",
    "    print(\"pass\")\n",
    "else:\n",
    "    print(\"fail\")"
   ]
  },
  {
   "cell_type": "markdown",
   "id": "c095e74a-9409-41ef-8c3e-99bd07ab938d",
   "metadata": {},
   "source": [
    "## 여러 조건에 따른 분기"
   ]
  },
  {
   "cell_type": "code",
   "execution_count": 9,
   "id": "84e86dda-97bd-4926-ada9-95ea5ddd908f",
   "metadata": {},
   "outputs": [
    {
     "ename": "SyntaxError",
     "evalue": "expected ':' (3557074216.py, line 2)",
     "output_type": "error",
     "traceback": [
      "\u001b[1;36m  Cell \u001b[1;32mIn[9], line 2\u001b[1;36m\u001b[0m\n\u001b[1;33m    if (x >= 80 ) and (x <90)\u001b[0m\n\u001b[1;37m                             ^\u001b[0m\n\u001b[1;31mSyntaxError\u001b[0m\u001b[1;31m:\u001b[0m expected ':'\n"
     ]
    }
   ],
   "source": [
    "x = 88\n",
    "if (x >= 80 ) and (x <90)\n",
    "if (x >= 80) and (x < 90):\n",
    "    print(\"조건부 합격\")"
   ]
  },
  {
   "cell_type": "code",
   "execution_count": 7,
   "id": "21ba4110-d6cd-4a52-b655-526c7f4747cf",
   "metadata": {},
   "outputs": [
    {
     "name": "stdin",
     "output_type": "stream",
     "text": [
      "숫자를 입력하세요.. 85\n"
     ]
    },
    {
     "name": "stdout",
     "output_type": "stream",
     "text": [
      "조건부 합격\n"
     ]
    }
   ],
   "source": [
    "x = int(input(\"숫자를 입력하세요..\"))\n",
    "if x >=90:\n",
    "    print(\"pass\")\n",
    "elif ( x >= 80) and (x < 90):\n",
    "    print(\"조건부 합격\")\n",
    "else:\n",
    "    print(\"fail\")"
   ]
  },
  {
   "cell_type": "markdown",
   "id": "887c7a25-d4c2-4a85-85af-c00d7a1b021b",
   "metadata": {},
   "source": [
    "## 중첩 조건에 따른 분기\n",
    "- 시나리오\n",
    "- 90점 넘으면 합격, 그 중에서 100점자에는 장학금 지급\n",
    "- 80점 이상은 조건부 합격\n",
    "- 그 외는 탈락"
   ]
  },
  {
   "cell_type": "code",
   "execution_count": 13,
   "id": "c64b71b6-db6d-49b3-b89f-bc46d5473917",
   "metadata": {},
   "outputs": [
    {
     "name": "stdin",
     "output_type": "stream",
     "text": [
      "숫자를 입력하세요.. 91\n"
     ]
    },
    {
     "name": "stdout",
     "output_type": "stream",
     "text": [
      "pass\n"
     ]
    }
   ],
   "source": [
    "x = int(input(\"숫자를 입력하세요..\"))\n",
    "if x >= 90:\n",
    "    if x == 100:\n",
    "        print(\"장학금 지급\")\n",
    "    else:\n",
    "        print(\"pass\")\n",
    "elif ( x >= 80) and (x < 90):\n",
    "    print(\"조건부 합격\")\n",
    "else:\n",
    "    print(\"fail\")"
   ]
  },
  {
   "cell_type": "markdown",
   "id": "bb8665eb-d368-475d-bb86-0232034a3e2b",
   "metadata": {},
   "source": [
    "# 반복문"
   ]
  },
  {
   "cell_type": "code",
   "execution_count": 1,
   "id": "21096d85-7b83-4af6-bde5-24743cf38a9f",
   "metadata": {},
   "outputs": [
    {
     "name": "stdout",
     "output_type": "stream",
     "text": [
      "안녕하세요\n",
      "안녕하세요\n",
      "안녕하세요\n"
     ]
    }
   ],
   "source": [
    "for i in range(3):\n",
    "    print(\"안녕하세요\")"
   ]
  },
  {
   "cell_type": "markdown",
   "id": "d777abc2-d7c4-4b27-9126-d92936f93ac6",
   "metadata": {},
   "source": [
    "- 시퀀스 자료형이 range 대신에 들어감"
   ]
  },
  {
   "cell_type": "code",
   "execution_count": 2,
   "id": "9f2bb55d-a991-4695-979b-e3d9820922c5",
   "metadata": {},
   "outputs": [
    {
     "name": "stdout",
     "output_type": "stream",
     "text": [
      "False\n",
      "True\n",
      "True\n"
     ]
    }
   ],
   "source": [
    "from collections.abc import Sequence\n",
    "\n",
    "my_num = 100\n",
    "my_list = [1, 2, 3]\n",
    "my_string = \"hello\"\n",
    "\n",
    "is_num = isinstance(my_num, Sequence)\n",
    "is_list = isinstance(my_list, Sequence)\n",
    "is_string = isinstance(my_string, Sequence)\n",
    "\n",
    "print(is_num)\n",
    "print(is_list)\n",
    "print(is_string)"
   ]
  },
  {
   "cell_type": "code",
   "execution_count": 4,
   "id": "7936946e-fa20-44c1-837f-e43512f9470a",
   "metadata": {},
   "outputs": [
    {
     "name": "stdout",
     "output_type": "stream",
     "text": [
      "1\n",
      "2\n",
      "3\n"
     ]
    }
   ],
   "source": [
    "for i in my_list:\n",
    "    print(i)"
   ]
  },
  {
   "cell_type": "code",
   "execution_count": 5,
   "id": "7b44efe5-19dd-43b1-a999-933150c7520a",
   "metadata": {},
   "outputs": [
    {
     "name": "stdout",
     "output_type": "stream",
     "text": [
      "h\n",
      "e\n",
      "l\n",
      "l\n",
      "o\n"
     ]
    }
   ],
   "source": [
    "for i in my_string:\n",
    "    print(i)"
   ]
  },
  {
   "cell_type": "code",
   "execution_count": 6,
   "id": "7008a3be-09d4-49d0-a7a8-bed96179db8a",
   "metadata": {},
   "outputs": [
    {
     "data": {
      "text/plain": [
       "[0, 1, 2]"
      ]
     },
     "execution_count": 6,
     "metadata": {},
     "output_type": "execute_result"
    }
   ],
   "source": [
    "list(range(3))"
   ]
  },
  {
   "cell_type": "markdown",
   "id": "2b3e8114-e151-48bb-96ee-9194b739dfdb",
   "metadata": {},
   "source": [
    "## 중첩 for문"
   ]
  },
  {
   "cell_type": "code",
   "execution_count": 10,
   "id": "3e9fda61-829d-4aaa-9d6e-a89e79da56de",
   "metadata": {},
   "outputs": [
    {
     "name": "stdout",
     "output_type": "stream",
     "text": [
      "x y\n",
      "x1\n",
      "x1 y1\n",
      "x1 y2\n",
      "y 반복문 종료\n",
      "x2\n",
      "x2 y1\n",
      "x2 y2\n",
      "y 반복문 종료\n"
     ]
    }
   ],
   "source": [
    "x_list = [\"x1\", \"x2\"]\n",
    "y_list = [\"y1\" , \"y2\"]\n",
    "\n",
    "print (\"x y\")\n",
    "for x in x_list:\n",
    "    print(x)\n",
    "    for y in y_list:\n",
    "        print(x,y)\n",
    "    print(\"y 반복문 종료\")"
   ]
  },
  {
   "cell_type": "markdown",
   "id": "d2c45f93-3634-41cb-aad2-e178b7fafe0e",
   "metadata": {},
   "source": [
    "## 여러 개의 리스트 다루기"
   ]
  },
  {
   "cell_type": "code",
   "execution_count": null,
   "id": "7c26ae46-f151-4191-ab2c-fc189a3ad1b4",
   "metadata": {},
   "outputs": [],
   "source": [
    "names = ['James', 'Robert', 'Lisa', 'Mary']\n",
    "scores = [95, 96, 97, 94]\n",
    "    print(names[0], scores[0])"
   ]
  },
  {
   "cell_type": "code",
   "execution_count": 12,
   "id": "0f860f7b-7995-4a05-9a48-2c032e72fea3",
   "metadata": {},
   "outputs": [
    {
     "name": "stdout",
     "output_type": "stream",
     "text": [
      "James 95\n",
      "Robert 96\n",
      "Lisa 97\n",
      "Mary 94\n"
     ]
    }
   ],
   "source": [
    "names = ['James', 'Robert', 'Lisa', 'Mary']\n",
    "scores = [95, 96, 97, 94]\n",
    "\n",
    "# idx 는 index 번호를  의미\n",
    "for idx in range(len(names)):\n",
    "   # print(idx)\n",
    "    print(names[idx], scores[idx])"
   ]
  },
  {
   "cell_type": "markdown",
   "id": "0feec0d8-887d-4263-8de8-f77344f4d942",
   "metadata": {},
   "source": [
    "## 리스트 컴프리헨션"
   ]
  },
  {
   "cell_type": "code",
   "execution_count": 14,
   "id": "a1b83ebc-f954-4905-933f-c9b6e8b1a2fb",
   "metadata": {},
   "outputs": [
    {
     "name": "stdout",
     "output_type": "stream",
     "text": [
      "[2, 4, 6, 8, 10]\n"
     ]
    }
   ],
   "source": [
    "numbers = [1,2,3,4,5]\n",
    "result = []\n",
    "for x in numbers:\n",
    "    # 각 요소마다 곱하기 2\n",
    "    # print(x * 2)\n",
    "    result.append(x*2)\n",
    "\n",
    "print(result)"
   ]
  },
  {
   "cell_type": "code",
   "execution_count": 15,
   "id": "12d9bea5-f00c-4a05-afc5-05974050c7d5",
   "metadata": {},
   "outputs": [
    {
     "name": "stdout",
     "output_type": "stream",
     "text": [
      "[2, 4, 6, 8, 10]\n"
     ]
    }
   ],
   "source": [
    "numbers = [1,2,3,4,5]\n",
    "result2 = [x * 2 for x in numbers]\n",
    "print(result2)"
   ]
  },
  {
   "cell_type": "code",
   "execution_count": 17,
   "id": "70c510ab-1a64-442a-89c8-871990e64f98",
   "metadata": {},
   "outputs": [
    {
     "data": {
      "text/plain": [
       "[2, 4, 6]"
      ]
     },
     "execution_count": 17,
     "metadata": {},
     "output_type": "execute_result"
    }
   ],
   "source": [
    "numbers = [1, 2, 3, 4, 5, 6]\n",
    "result = []\n",
    "for x in numbers:\n",
    "    if x % 2 == 0:\n",
    "        result.append(x)\n",
    "result"
   ]
  },
  {
   "cell_type": "code",
   "execution_count": 34,
   "id": "7b24ffd7-d7b6-484c-9a37-c1e7822c06cd",
   "metadata": {},
   "outputs": [
    {
     "data": {
      "text/plain": [
       "[2, 4, 6]"
      ]
     },
     "execution_count": 34,
     "metadata": {},
     "output_type": "execute_result"
    }
   ],
   "source": [
    "# 짝수만 출력하세요\n",
    "numbers = [1, 2, 3, 4, 5, 6]\n",
    "result2 = [x for x in numbers if x % 2 == 0]\n",
    "result2 "
   ]
  },
  {
   "cell_type": "markdown",
   "id": "648b5079-2509-4347-a91f-a0ed3a95c47f",
   "metadata": {},
   "source": [
    "## while 반복문\n",
    "- 조건문이 참일 떄만 반복해서 실행\n",
    "- 데이터 분석 : 데이터 셋이 정해져 있음\n",
    "- 행과 열이 고정이 되어 있음\n",
    "`- 범위가 주어진 상태 "
   ]
  },
  {
   "cell_type": "code",
   "execution_count": 35,
   "id": "a0a49c2c-8aa7-4aba-921e-45fa31734187",
   "metadata": {},
   "outputs": [
    {
     "name": "stdout",
     "output_type": "stream",
     "text": [
      "1 1\n",
      "2 3\n",
      "3 6\n",
      "4 10\n",
      "5 15\n",
      "6 21\n"
     ]
    }
   ],
   "source": [
    "i = 0\n",
    "total = 0\n",
    "\n",
    "while (total < 20):\n",
    "    i = i + 1 #==> i = 0 , ==> i = 1\n",
    "    total = total + i # ==> total = 0 + i ==> 1\n",
    "    print(i, total)`"
   ]
  },
  {
   "cell_type": "code",
   "execution_count": 37,
   "id": "4a849103-8e92-4ca0-82b2-aef4c5cb58a3",
   "metadata": {},
   "outputs": [
    {
     "name": "stdout",
     "output_type": "stream",
     "text": [
      "안녕하세요\n",
      "안녕하세요\n",
      "안녕하세요\n",
      "안녕하세요\n",
      "4\n"
     ]
    }
   ],
   "source": [
    "k = 0\n",
    "while True:\n",
    "    k = k + 1 # k는 1씩 증가\n",
    "    print(\"안녕하세요\")\n",
    "    if (k >3):\n",
    "        print(k)\n",
    "        break # while / for loop 문에서 강제적으로 종료시킬떄"
   ]
  },
  {
   "cell_type": "markdown",
   "id": "1e60c5d5-a4f9-4709-9b8e-49b03618596f",
   "metadata": {},
   "source": [
    "## 사용자 정의 함수 "
   ]
  },
  {
   "cell_type": "code",
   "execution_count": 40,
   "id": "8f56c056-b756-4c34-b357-4fe2d56eb58e",
   "metadata": {},
   "outputs": [],
   "source": [
    "def my_1st_func():\n",
    "    print(\"안녕하세요\")\n",
    "    print(\"반갑습니다\")"
   ]
  },
  {
   "cell_type": "code",
   "execution_count": 41,
   "id": "7a2768f1-1536-4587-b564-f257f087e43b",
   "metadata": {},
   "outputs": [
    {
     "name": "stdout",
     "output_type": "stream",
     "text": [
      "안녕하세요\n",
      "반갑습니다\n"
     ]
    }
   ],
   "source": [
    "my_1st_func()"
   ]
  },
  {
   "cell_type": "markdown",
   "id": "7077d9ad-644c-45ee-913e-eb51aa45c8c6",
   "metadata": {},
   "source": [
    "## 인자(인수)는 있으나 반환 값이 함수"
   ]
  },
  {
   "cell_type": "code",
   "execution_count": 2,
   "id": "82df9438-5254-4ab3-8b21-bafaf0cf581a",
   "metadata": {},
   "outputs": [
    {
     "name": "stdout",
     "output_type": "stream",
     "text": [
      "(name)는 나의 친구입니다\n",
      "철수는 나의 친구입니다\n",
      "(name)는 나의 친구입니다\n",
      "길동는 나의 친구입니다\n"
     ]
    }
   ],
   "source": [
    "def my_friend(name):\n",
    "    print(f\"(name)는 나의 친구입니다\")\n",
    "    print(\"{}는 나의 친구입니다\".format(name))\n",
    "\n",
    "my_friend(\"철수\")\n",
    "my_friend(\"길동\")"
   ]
  },
  {
   "cell_type": "code",
   "execution_count": 33,
   "id": "ca1614b3-4450-4a54-8e04-423068f02a2b",
   "metadata": {},
   "outputs": [
    {
     "name": "stdout",
     "output_type": "stream",
     "text": [
      "(name)는 나의 친구입니다\n",
      "영희는 나의 친구입니다\n"
     ]
    }
   ],
   "source": [
    "my_friend(\"영희\")"
   ]
  },
  {
   "cell_type": "markdown",
   "id": "50607b63-d1f4-4f02-a2d1-a8b6af5dc3c0",
   "metadata": {},
   "source": [
    "## 인자(인수)는 있으나 반환 값이 있는 함수"
   ]
  },
  {
   "cell_type": "code",
   "execution_count": 5,
   "id": "5d773ef0-fa75-46e9-b7df-89545a6e32d5",
   "metadata": {},
   "outputs": [],
   "source": [
    "def my_calc(x, y):\n",
    "    z = x * y\n",
    "    return z"
   ]
  },
  {
   "cell_type": "code",
   "execution_count": 6,
   "id": "8ff9c977-b833-48c9-85da-02bda1468739",
   "metadata": {},
   "outputs": [
    {
     "data": {
      "text/plain": [
       "12"
      ]
     },
     "execution_count": 6,
     "metadata": {},
     "output_type": "execute_result"
    }
   ],
   "source": [
    "my_calc(3,4)"
   ]
  },
  {
   "cell_type": "markdown",
   "id": "b7b1e397-e108-420f-adcb-119ec5073de7",
   "metadata": {},
   "source": [
    "## 변수의 유효범위 \n",
    "- 키워드 , 전역변수 , 지역변수"
   ]
  },
  {
   "cell_type": "code",
   "execution_count": 16,
   "id": "e6c5a27a-f063-43ef-bbdb-97f388b21de8",
   "metadata": {},
   "outputs": [],
   "source": [
    "a = 5     # 전역 변수 \n",
    "\n",
    "def func1():\n",
    "    a = 1      # 지역 변수\n",
    "    print(\"[func1] 지역 변수 a =\", a)\n",
    "\n",
    "def func2():\n",
    "    a = 2      # 지역 변수\n",
    "    print(\"[func2] 지역 변수 a =\", a)\n",
    "\n",
    "def func3():\n",
    "    print(\"[func3] 지역 변수 a =\", a)\n",
    "\n",
    "def func4():\n",
    "    global a # 함수 내 에서 전역 변수 변경을 위해 선언\n",
    "    a = 4\n",
    "    print(\"[func4] 전역 변수 a =\", a)"
   ]
  },
  {
   "cell_type": "code",
   "execution_count": 20,
   "id": "b82607b9-2b74-4865-9e8e-76eb78c907aa",
   "metadata": {},
   "outputs": [
    {
     "name": "stdout",
     "output_type": "stream",
     "text": [
      "[func1] 지역 변수 a = 1\n",
      "[func1] 지역 변수 a = 2\n",
      "[func3] 지역 변수 a = 4\n"
     ]
    }
   ],
   "source": [
    "func1()\n",
    "func2()\n",
    "func3()"
   ]
  },
  {
   "cell_type": "code",
   "execution_count": 15,
   "id": "c3d4594f-84a3-4580-8532-cd396692ac12",
   "metadata": {},
   "outputs": [
    {
     "name": "stdout",
     "output_type": "stream",
     "text": [
      "[func1] 지역 변수 a = 1\n",
      "[func1] 지역 변수 a = 2\n",
      "전역 변수 a= 5\n"
     ]
    }
   ],
   "source": [
    "func1()\n",
    "func2()\n",
    "print(\"전역 변수 a=\", a) # 전역 변수 출력"
   ]
  },
  {
   "cell_type": "code",
   "execution_count": 19,
   "id": "4155f3be-794d-48ca-a252-7cacf6c0ac82",
   "metadata": {},
   "outputs": [
    {
     "name": "stdout",
     "output_type": "stream",
     "text": [
      "[func3] 지역 변수 a = 4\n",
      "[func4] 전역 변수 a = 4\n",
      "[func3] 지역 변수 a = 4\n"
     ]
    }
   ],
   "source": [
    "func3()\n",
    "func4()\n",
    "func3()"
   ]
  },
  {
   "cell_type": "code",
   "execution_count": 25,
   "id": "b8010d8c-ce52-4ca2-885d-42595bc2a940",
   "metadata": {},
   "outputs": [
    {
     "name": "stdout",
     "output_type": "stream",
     "text": [
      "3\n"
     ]
    }
   ],
   "source": [
    "c = 1\n",
    "\n",
    "def add():\n",
    "    global c\n",
    "    c = c + 2\n",
    "    print(c)\n",
    "add()"
   ]
  },
  {
   "cell_type": "markdown",
   "id": "dedd244f-7854-4bbb-8e1d-694a717fc472",
   "metadata": {},
   "source": [
    "## 가변 인수 예제 \n",
    "- 학생의 점수를 입력 받아 평균 점수를 계산하는 함수\n",
    "    - 문제점 : 각 학생들 마다 시험 본 과목 수가 다 다르다\n",
    "      - A : 3 과목\n",
    "      - B : 2 과목\n",
    "      - c : 5 과목"
   ]
  },
  {
   "cell_type": "code",
   "execution_count": 27,
   "id": "a7557b0e-91fa-4f85-b0ba-afe9148882ad",
   "metadata": {},
   "outputs": [],
   "source": [
    "def calculate_average(name, *scores):\n",
    "    if scores:  # 가변 인수가 비어있지 않은지 확인\n",
    "        average_score = sum(scores) / len(scores)\n",
    "        print(f\"{name}의 평균 점수는 {average_score:.2f}점입니다.\")\n",
    "    else:\n",
    "        print(f\"{name}의 점수를 입력하지 않았습니다.\")"
   ]
  },
  {
   "cell_type": "code",
   "execution_count": 28,
   "id": "2832141b-dd72-44c9-97ad-425dbebe9527",
   "metadata": {},
   "outputs": [
    {
     "name": "stdout",
     "output_type": "stream",
     "text": [
      "Evan의 평균 점수는 76.67점입니다.\n"
     ]
    }
   ],
   "source": [
    "calculate_average(\"Evan\", 85 , 70, 75)"
   ]
  },
  {
   "cell_type": "code",
   "execution_count": 29,
   "id": "a251fe3f-440a-46e3-83af-329cc3a0d04f",
   "metadata": {},
   "outputs": [
    {
     "name": "stdout",
     "output_type": "stream",
     "text": [
      "A의 평균 점수는 80.00점입니다.\n"
     ]
    }
   ],
   "source": [
    "calculate_average(\"A\", 90 , 70)"
   ]
  },
  {
   "cell_type": "code",
   "execution_count": 30,
   "id": "ff6d6e5e-27c0-4f5e-a295-63d4fcc16434",
   "metadata": {},
   "outputs": [
    {
     "name": "stdout",
     "output_type": "stream",
     "text": [
      "C의 점수를 입력하지 않았습니다.\n"
     ]
    }
   ],
   "source": [
    "calculate_average(\"C\")"
   ]
  },
  {
   "cell_type": "code",
   "execution_count": 31,
   "id": "cf779363-9765-46d0-9ebe-78b3e63a57c6",
   "metadata": {},
   "outputs": [],
   "source": [
    "def calculate_average(name, *scores):\n",
    "    print(type(scores))\n",
    "    if (scores)> 0: # 가변 인수가 비어있지 않은지 확인 리스트 확인\n",
    "        average_score = sum(scores) / len(scores)\n",
    "        print(f\"{name}의 평균 점수는 {average_score:.2f}점입니다.\")\n",
    "    else:\n",
    "        print(f\"{name}의 점수를 입력하지 않았습니다.\")"
   ]
  },
  {
   "cell_type": "markdown",
   "id": "4e45f594-4680-46d2-9827-26ddd55e92a8",
   "metadata": {},
   "source": [
    "## 키워드 인수 확인 예제 \n",
    "- 학생의 이름 , 과목별, 점수 , 그리고 학년을 받아 학생의 성적을 출력하는 함수\n",
    "    - 고정인수 : 학생의 이름\n",
    "    - 가변인수 : 여러개의 과목 점수\n",
    "    - 키워드 인수 : 학년 정보"
   ]
  },
  {
   "cell_type": "code",
   "execution_count": 32,
   "id": "ec1e36ee-4e4b-4758-9d24-37d27cb218d5",
   "metadata": {},
   "outputs": [
    {
     "name": "stdout",
     "output_type": "stream",
     "text": [
      "학생 이름: Alice\n",
      "평균 점수: 88.33\n",
      "grade: 2학년\n",
      "school: Seoul High School\n",
      "\n",
      "\n",
      "학생 이름: Bob\n",
      "평균 점수: 80.75\n",
      "grade: 3학년\n",
      "school: Busan High School\n",
      "hobby: 축구\n",
      "\n",
      "\n",
      "학생 이름: Charlie\n",
      "점수를 입력하지 않았습니다.\n",
      "grade: 1학년\n"
     ]
    }
   ],
   "source": [
    "def student_report(name, *scores, **details):\n",
    "    print(f\"학생 이름: {name}\")\n",
    "\n",
    "    # 점수가 입력된 경우에만 평균을 계산\n",
    "    if scores:\n",
    "        average_score = sum(scores) / len(scores)\n",
    "        print(f\"평균 점수: {average_score:.2f}\")\n",
    "    else:\n",
    "        print(\"점수를 입력하지 않았습니다.\")\n",
    "\n",
    "    # 키워드 인수로 전달된 추가 정보를 출력\n",
    "    for key, value in details.items():\n",
    "        print(f\"{key}: {value}\")\n",
    "\n",
    "# 함수 호출 예제\n",
    "student_report(\"Alice\", 88, 92, 85, grade=\"2학년\", school=\"Seoul High School\")\n",
    "print(\"\\n\")\n",
    "student_report(\"Bob\", 75, 80, 78, 90, grade=\"3학년\", school=\"Busan High School\", hobby=\"축구\")\n",
    "print(\"\\n\")\n",
    "student_report(\"Charlie\", grade=\"1학년\")"
   ]
  },
  {
   "cell_type": "markdown",
   "id": "953a4e1d-4ae5-41fa-9769-2c65869955e2",
   "metadata": {},
   "source": [
    "## 람다(lambda) 함수"
   ]
  },
  {
   "cell_type": "code",
   "execution_count": 40,
   "id": "d140057a-e289-42bd-8bf3-f1486e79f557",
   "metadata": {},
   "outputs": [
    {
     "data": {
      "text/plain": [
       "25"
      ]
     },
     "execution_count": 40,
     "metadata": {},
     "output_type": "execute_result"
    }
   ],
   "source": [
    "(lambda x : x ** 2)(5)"
   ]
  },
  {
   "cell_type": "code",
   "execution_count": 42,
   "id": "ab294942-5557-4cfb-88e8-263a85ba68c4",
   "metadata": {},
   "outputs": [],
   "source": [
    "mysquere = lambda x : x **2\n",
    "mysquare =(5)"
   ]
  },
  {
   "cell_type": "code",
   "execution_count": null,
   "id": "a5bd6f5f-44da-40c5-9f43-a4b21db13afb",
   "metadata": {},
   "outputs": [],
   "source": [
    "samplefunc = lambda "
   ]
  },
  {
   "cell_type": "markdown",
   "id": "01a2a2c4-4c86-4df4-9a64-5b769f4e0602",
   "metadata": {},
   "source": [
    "# context Manger, Decorator\n",
    "- 클로저 closure\n",
    "  - 함수 안에 또 다른 함수 생성"
   ]
  },
  {
   "cell_type": "code",
   "execution_count": 44,
   "id": "42cc0516-7a5f-46d4-9e15-260630c9b3f3",
   "metadata": {},
   "outputs": [
    {
     "name": "stdout",
     "output_type": "stream",
     "text": [
      "Function 'slow_function' executed in 2.0009 seconds\n"
     ]
    },
    {
     "data": {
      "text/plain": [
       "'Finished'"
      ]
     },
     "execution_count": 44,
     "metadata": {},
     "output_type": "execute_result"
    }
   ],
   "source": [
    "import time\n",
    "\n",
    "def time_decorator(func):\n",
    "    def wrapper(*args, **kwargs):\n",
    "        start_time = time.time()\n",
    "        result = func(*args, **kwargs)\n",
    "        end_time = time.time()\n",
    "        print(f\"Function '{func.__name__}' executed in {end_time - start_time:.4f} seconds\")\n",
    "        return result\n",
    "    return wrapper\n",
    "\n",
    "@time_decorator\n",
    "def slow_function():\n",
    "    time.sleep(2)\n",
    "    return \"Finished\"\n",
    "\n",
    "# 사용 예시\n",
    "slow_function()"
   ]
  },
  {
   "cell_type": "code",
   "execution_count": 43,
   "id": "88f4af54-8b3c-4a6b-8296-eef6e2a56f3e",
   "metadata": {},
   "outputs": [
    {
     "data": {
      "text/plain": [
       "'Finished'"
      ]
     },
     "execution_count": 43,
     "metadata": {},
     "output_type": "execute_result"
    }
   ],
   "source": [
    "import time\n",
    "\n",
    "def slow_function():\n",
    "    time.sleep(2)\n",
    "    return \"Finished\"\n",
    "\n",
    "# 사용 예시\n",
    "slow_function()"
   ]
  },
  {
   "cell_type": "markdown",
   "id": "27ff2c98-1db1-4dc4-8b72-2fb9df0a2c4a",
   "metadata": {},
   "source": [
    "# 클래스 왕기초 "
   ]
  },
  {
   "cell_type": "code",
   "execution_count": 55,
   "id": "724c1dc6-9f0a-4883-96a9-2e6a1f165e4a",
   "metadata": {},
   "outputs": [
    {
     "name": "stdout",
     "output_type": "stream",
     "text": [
      "stremlit Evan\n"
     ]
    }
   ],
   "source": [
    "class 책: \n",
    "    title = None     #속성\n",
    "    author = None    #속성\n",
    "    pages = 0        #속성\n",
    "    price = 0        #속성\n",
    "    discount = 0     #속성\n",
    "\n",
    "    def 읽는시간(self, reading_Spead => 30);\n",
    "        return round(self.pages / reading_Spead, 1)\n",
    "\n",
    "\n",
    "# 인스턴스 생성\n",
    "책01호 = 책()\n",
    "책01호.title = \"stremlit\"\n",
    "책01호.author = \"Evan\"\n",
    "책01호.pages = 500\n",
    "책01호.price = 40000\n",
    "책01호.dicount = 10\n",
    "\n",
    "print(책01호.title, 책01호.author)"
   ]
  },
  {
   "cell_type": "code",
   "execution_count": 54,
   "id": "70e8bd9b-3859-4152-a763-95f7d4ae01ef",
   "metadata": {},
   "outputs": [
    {
     "name": "stdout",
     "output_type": "stream",
     "text": [
      "Python\n"
     ]
    }
   ],
   "source": [
    "#인스턴스 생성\n",
    "책02호 = 책()\n",
    "책02호.title = \"Python\"\n",
    "책02호.author = \"Evan\"\n",
    "책02호.pages = 500\n",
    "책02호.price = 40000\n",
    "책02호.dicount = 10\n",
    "\n",
    "print(책02호.title)"
   ]
  },
  {
   "cell_type": "code",
   "execution_count": 63,
   "id": "517d58d4-d3ea-4a4e-b6f9-d1438e398add",
   "metadata": {},
   "outputs": [],
   "source": [
    "class 책: \n",
    "    title = None     #속성\n",
    "    author = None    #속성\n",
    "    pages = 0        #속성\n",
    "    price = 0        #속성\n",
    "    discount = 0     #속성\n",
    "\n",
    "    def 읽는시간(self, reading_Spead = 30):\n",
    "        return round(self.pages / reading_Spead, 1)"
   ]
  },
  {
   "cell_type": "code",
   "execution_count": 62,
   "id": "5d59c096-3340-441b-acef-060fb185e25f",
   "metadata": {},
   "outputs": [
    {
     "name": "stdout",
     "output_type": "stream",
     "text": [
      "stremlit Evan\n",
      "16.7\n"
     ]
    }
   ],
   "source": [
    "# 인스턴스 생성\n",
    "책01호 = 책()\n",
    "책01호.title = \"stremlit\"\n",
    "책01호.author = \"Evan\"\n",
    "책01호.pages = 500\n",
    "책01호.price = 40000\n",
    "책01호.dicount = 10\n",
    "\n",
    "print(책01호.title, 책01호.author)\n",
    "출력값 = 책01호.읽는시간()\n",
    "print(출력값)"
   ]
  },
  {
   "cell_type": "markdown",
   "id": "4a58473f-bc78-4073-9e40-10bafd1fe381",
   "metadata": {},
   "source": [
    "## 코드 업데이트"
   ]
  },
  {
   "cell_type": "code",
   "execution_count": 65,
   "id": "5c47034b-b9b1-4834-9871-d3a3c3f1307b",
   "metadata": {},
   "outputs": [],
   "source": [
    "class 책():\n",
    "    def __init__(self, title, author, price ,pages, discount_rate=0):\n",
    "        self.title = title # 책의 제목\n",
    "        self.author = author\n",
    "        self.pages = pages\n",
    "        self.price = price\n",
    "        self.discount_rate = 0"
   ]
  },
  {
   "cell_type": "code",
   "execution_count": 73,
   "id": "f2f3521b-c6f8-406b-8eb7-e31c93a23786",
   "metadata": {},
   "outputs": [
    {
     "data": {
      "text/plain": [
       "('샘플', '샘플2')"
      ]
     },
     "execution_count": 73,
     "metadata": {},
     "output_type": "execute_result"
    }
   ],
   "source": [
    "책01호 = 책(\"샘플\" , \"Evan\",300,20000,0.1)\n",
    "책02호 = 책(\"샘플2\" , \"Evan1\",300,20000,0.1)\n",
    "책03호 = 책(\"샘플3\" , \"Evan2\",300,20000,0.1)\n",
    "책04호 = 책(\"샘플4\" , \"Evan3\",300,20000,0.1)\n",
    "책01호.title, 책02호.title"
   ]
  },
  {
   "cell_type": "code",
   "execution_count": 75,
   "id": "1dd6d37d-065d-49f8-a4fc-2eb3a525ae83",
   "metadata": {},
   "outputs": [],
   "source": [
    "class 책():\n",
    "    # initialize : 초기화\n",
    "    def __init__(self, title, author, pages, price, discount_rate=0):\n",
    "        self.title = title # 책의 제목\n",
    "        self.author = author \n",
    "        self.pages = pages\n",
    "        self.price = price\n",
    "        self.discount_rate = discount_rate\n",
    "        \n",
    "    def reading_time(self, reading_speed = 30):\n",
    "        return round(self.pages / reading_speed, 1)\n",
    "\n",
    "    def apply_discount(self):\n",
    "        return self.price * (1 - self.discount_rate)"
   ]
  },
  {
   "cell_type": "code",
   "execution_count": 76,
   "id": "ed7f1933-5551-46ad-99e8-579f6cfb957f",
   "metadata": {},
   "outputs": [
    {
     "data": {
      "text/plain": [
       "('샘플', '샘플2')"
      ]
     },
     "execution_count": 76,
     "metadata": {},
     "output_type": "execute_result"
    }
   ],
   "source": [
    "책01호 = 책(\"샘플\", \"Evan\", 300, 20000, 0.5)\n",
    "책02호 = 책(\"샘플2\", \"Evan1\", 400, 20000, 0.1)\n",
    "책03호 = 책(\"샘플3\", \"Evan2\", 500, 20000, 0.1)\n",
    "책04호 = 책(\"샘플4\", \"Eva3\", 600, 20000, 0.1)\n",
    "책01호.title, 책02호.title"
   ]
  },
  {
   "cell_type": "code",
   "execution_count": 77,
   "id": "60b973ac-fe99-4996-b6a9-d4491f3eae44",
   "metadata": {},
   "outputs": [
    {
     "data": {
      "text/plain": [
       "10.0"
      ]
     },
     "execution_count": 77,
     "metadata": {},
     "output_type": "execute_result"
    }
   ],
   "source": [
    "책01호 = 책(\"샘플\", \"Evan\", 300, 20000, 0.1)\n",
    "책01호.reading_time()"
   ]
  }
 ],
 "metadata": {
  "kernelspec": {
   "display_name": "Python 3 (ipykernel)",
   "language": "python",
   "name": "python3"
  },
  "language_info": {
   "codemirror_mode": {
    "name": "ipython",
    "version": 3
   },
   "file_extension": ".py",
   "mimetype": "text/x-python",
   "name": "python",
   "nbconvert_exporter": "python",
   "pygments_lexer": "ipython3",
   "version": "3.12.6"
  }
 },
 "nbformat": 4,
 "nbformat_minor": 5
}
